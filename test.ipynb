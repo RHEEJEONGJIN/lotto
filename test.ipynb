{
 "cells": [
  {
   "cell_type": "code",
   "execution_count": 83,
   "metadata": {},
   "outputs": [],
   "source": [
    "import json \n",
    "import time\n",
    "import math\n",
    "import requests\n",
    "import numpy as np\n",
    "import pandas as pd\n",
    "from tqdm import tqdm\n",
    "from bs4 import BeautifulSoup\n",
    "from datetime import datetime, timezone\n",
    "from sklearn.preprocessing import MinMaxScaler\n",
    "from keras.models import Sequential\n",
    "from keras.layers import Dense, LSTM\n",
    "import tensorflow as tf\n",
    "from tensorflow import keras\n",
    "from keras import layers\n",
    "from keras import models\n",
    "\n",
    "from database_crud import CRUD\n",
    "db = CRUD()"
   ]
  },
  {
   "cell_type": "code",
   "execution_count": null,
   "metadata": {},
   "outputs": [],
   "source": [
    "from bs4 import BeautifulSoup\n",
    "import requests\n",
    "\n",
    "\n",
    "url1 = \"https://dhlottery.co.kr/gameResult.do?method=byWin&drwNo=\" \n",
    "lotto = open(\"로또 번호2.txt\", \"a\", encoding=\"UTF-8\")\n",
    "\n",
    "\n",
    "for url2 in range(900, 924) :\n",
    "    url = url1 + str(url2)\n",
    "    lotto.write(str(url2) + \"회 : \")\n",
    "    html = requests.get(url)\n",
    "    soup = BeautifulSoup(html.text, 'html.parser')\n",
    "    data1 = soup.find('div', {'class': 'win_result'})\n",
    "       \n",
    "    i = 0\n",
    "    d = []\n",
    "    for i in range(0,7) :\n",
    "        data2 = data1.findAll('span')[i].text  # list에 넣어서 결과 보기\n",
    "        d.append(data2)\n",
    "        i = i + 1\n",
    "    lotto.write(str(d))    \n",
    "    lotto.write(\"\\n\")\n",
    "      \n",
    "    \n",
    "lotto.close()"
   ]
  },
  {
   "cell_type": "code",
   "execution_count": null,
   "metadata": {},
   "outputs": [],
   "source": [
    "s = f\"2003-01-11 00:00:00\" \n",
    "datetime.strptime(s, '%Y-%m-%d %H:%M:%S')"
   ]
  },
  {
   "cell_type": "code",
   "execution_count": null,
   "metadata": {},
   "outputs": [],
   "source": [
    "import json \n",
    "import time\n",
    "import requests\n",
    "import pandas as pd \n",
    "from tqdm import tqdm\n",
    "from bs4 import BeautifulSoup\n",
    "from datetime import datetime, timezone\n",
    "\n",
    "from database_crud import CRUD\n",
    "db = CRUD()\n",
    "\n",
    "def getLottoWinInfo(minDrwNo, maxDrwNo): \n",
    "    drwtNo1 = [] \n",
    "    drwtNo2 = [] \n",
    "    drwtNo3 = [] \n",
    "    drwtNo4 = [] \n",
    "    drwtNo5 = [] \n",
    "    drwtNo6 = []\n",
    "    bnusNo = [] \n",
    "    totSellamnt = [] \n",
    "    drwNoDate = [] \n",
    "    firstAccumamnt = [] \n",
    "    firstPrzwnerCo = [] \n",
    "    firstWinamnt = [] \n",
    "    \n",
    "    for i in tqdm(range(minDrwNo, maxDrwNo+1, 1)):  # tqdm : 시간의 경과에 따라 진행률 보여줌\n",
    "        req_url = \"https://dhlottery.co.kr/gameResult.do?method=byWin&drwNo=\" + str(i)\n",
    "        req_html = requests.get(req_url)\n",
    "        req_soup = BeautifulSoup(req_html.text, 'html.parser')\n",
    "        req_data = req_soup.find('div', {'class': 'win_result'})\n",
    "        lottoTimes = req_data.findAll('h4')[0].text.split(\"회\")[0]\n",
    "\n",
    "        req_api_url = \"http://www.dhlottery.co.kr/common.do?method=getLottoNumber&drwNo=\" + str(i) \n",
    "        req_api_lotto = requests.get(req_api_url)\n",
    "        lottoNo = req_api_lotto.json() \n",
    "        drwtNo1 = lottoNo['drwtNo1']\n",
    "        drwtNo2 = lottoNo['drwtNo2']\n",
    "        drwtNo3 = lottoNo['drwtNo3']\n",
    "        drwtNo4 = lottoNo['drwtNo4']\n",
    "        drwtNo5 = lottoNo['drwtNo5']\n",
    "        drwtNo6 = lottoNo['drwtNo6']\n",
    "        bnusNo = lottoNo['bnusNo']\n",
    "        totSellamnt = lottoNo['totSellamnt']\n",
    "        drwNoDate = datetime.strptime(f\"{lottoNo['drwNoDate']} 00:00:00\", '%Y-%m-%d %H:%M:%S')\n",
    "        firstAccumamnt = lottoNo['firstAccumamnt']\n",
    "        firstPrzwnerCo = lottoNo['firstPrzwnerCo']\n",
    "        # firstWinamnt = lottoNo['firstWinamnt']\n",
    "\n",
    "        # lotto_dict = {\n",
    "        #     \"lotto_times\":lottoTimes,\n",
    "        #     \"draw_time\":drwNoDate, \n",
    "        #     \"num1\":drwtNo1, \n",
    "        #     \"num2\":drwtNo2, \n",
    "        #     \"num3\":drwtNo3, \n",
    "        #     \"num4\":drwtNo4, \n",
    "        #     \"num5\":drwtNo5, \n",
    "        #     \"num6\":drwtNo6, \n",
    "        #     \"bonus\":bnusNo,\n",
    "        #     \"sales_amount\":totSellamnt, \n",
    "        #     \"winning_amount\":firstAccumamnt, \n",
    "        #     \"winner_count\":firstPrzwnerCo, \n",
    "        #     # \"1등수령액\":firstWinamnt,\n",
    "        #   } \n",
    "        \n",
    "        now =datetime.now().strftime('%Y-%m-%d %H:%M:%S')\n",
    "        # timestamp = time.mktime(now.timetuple())\n",
    "        # print(now)\n",
    "        db.insertDB(\n",
    "            schema='public',\n",
    "            table='LottoHistory',\n",
    "            colum='lotto_times, num1, num2, num3, num4, num5, num6, bonus, draw_time, create_time, winning_amount, winner_count, sales_amount',\n",
    "            data=f'{lottoTimes}, {drwtNo1}, {drwtNo2}, {drwtNo3}, {drwtNo4}, {drwtNo5}, {drwtNo6}, {bnusNo}, TIMESTAMP \\'{drwNoDate}\\', TIMESTAMP \\'{now}\\', {firstAccumamnt}, {firstPrzwnerCo}, {totSellamnt}'\n",
    "        )\n",
    "\n",
    "    # df_lotto = pd.DataFrame(lotto_dict) \n",
    "    # return df_lotto"
   ]
  },
  {
   "cell_type": "code",
   "execution_count": 84,
   "metadata": {},
   "outputs": [
    {
     "data": {
      "text/html": [
       "<div>\n",
       "<style scoped>\n",
       "    .dataframe tbody tr th:only-of-type {\n",
       "        vertical-align: middle;\n",
       "    }\n",
       "\n",
       "    .dataframe tbody tr th {\n",
       "        vertical-align: top;\n",
       "    }\n",
       "\n",
       "    .dataframe thead th {\n",
       "        text-align: right;\n",
       "    }\n",
       "</style>\n",
       "<table border=\"1\" class=\"dataframe\">\n",
       "  <thead>\n",
       "    <tr style=\"text-align: right;\">\n",
       "      <th></th>\n",
       "      <th>lotto_times</th>\n",
       "      <th>num1</th>\n",
       "      <th>num2</th>\n",
       "      <th>num3</th>\n",
       "      <th>num4</th>\n",
       "      <th>num5</th>\n",
       "      <th>num6</th>\n",
       "      <th>bonus</th>\n",
       "      <th>draw_time</th>\n",
       "      <th>create_time</th>\n",
       "      <th>winning_amount</th>\n",
       "      <th>winner_count</th>\n",
       "      <th>sales_amount</th>\n",
       "    </tr>\n",
       "  </thead>\n",
       "  <tbody>\n",
       "    <tr>\n",
       "      <th>0</th>\n",
       "      <td>1</td>\n",
       "      <td>10</td>\n",
       "      <td>23</td>\n",
       "      <td>29</td>\n",
       "      <td>33</td>\n",
       "      <td>37</td>\n",
       "      <td>40</td>\n",
       "      <td>16</td>\n",
       "      <td>2002-12-07</td>\n",
       "      <td>2023-05-14 21:26:33</td>\n",
       "      <td>863604600</td>\n",
       "      <td>0</td>\n",
       "      <td>3681782000</td>\n",
       "    </tr>\n",
       "    <tr>\n",
       "      <th>1</th>\n",
       "      <td>2</td>\n",
       "      <td>9</td>\n",
       "      <td>13</td>\n",
       "      <td>21</td>\n",
       "      <td>25</td>\n",
       "      <td>32</td>\n",
       "      <td>42</td>\n",
       "      <td>2</td>\n",
       "      <td>2002-12-14</td>\n",
       "      <td>2023-05-14 21:26:33</td>\n",
       "      <td>0</td>\n",
       "      <td>1</td>\n",
       "      <td>4904274000</td>\n",
       "    </tr>\n",
       "    <tr>\n",
       "      <th>2</th>\n",
       "      <td>3</td>\n",
       "      <td>11</td>\n",
       "      <td>16</td>\n",
       "      <td>19</td>\n",
       "      <td>21</td>\n",
       "      <td>27</td>\n",
       "      <td>31</td>\n",
       "      <td>30</td>\n",
       "      <td>2002-12-21</td>\n",
       "      <td>2023-05-14 21:26:34</td>\n",
       "      <td>0</td>\n",
       "      <td>1</td>\n",
       "      <td>4729342000</td>\n",
       "    </tr>\n",
       "    <tr>\n",
       "      <th>3</th>\n",
       "      <td>4</td>\n",
       "      <td>14</td>\n",
       "      <td>27</td>\n",
       "      <td>30</td>\n",
       "      <td>31</td>\n",
       "      <td>40</td>\n",
       "      <td>42</td>\n",
       "      <td>2</td>\n",
       "      <td>2002-12-28</td>\n",
       "      <td>2023-05-14 21:26:34</td>\n",
       "      <td>1267147200</td>\n",
       "      <td>0</td>\n",
       "      <td>5271464000</td>\n",
       "    </tr>\n",
       "    <tr>\n",
       "      <th>4</th>\n",
       "      <td>5</td>\n",
       "      <td>16</td>\n",
       "      <td>24</td>\n",
       "      <td>29</td>\n",
       "      <td>40</td>\n",
       "      <td>41</td>\n",
       "      <td>42</td>\n",
       "      <td>3</td>\n",
       "      <td>2003-01-04</td>\n",
       "      <td>2023-05-14 21:26:34</td>\n",
       "      <td>3041094900</td>\n",
       "      <td>0</td>\n",
       "      <td>6277102000</td>\n",
       "    </tr>\n",
       "    <tr>\n",
       "      <th>...</th>\n",
       "      <td>...</td>\n",
       "      <td>...</td>\n",
       "      <td>...</td>\n",
       "      <td>...</td>\n",
       "      <td>...</td>\n",
       "      <td>...</td>\n",
       "      <td>...</td>\n",
       "      <td>...</td>\n",
       "      <td>...</td>\n",
       "      <td>...</td>\n",
       "      <td>...</td>\n",
       "      <td>...</td>\n",
       "      <td>...</td>\n",
       "    </tr>\n",
       "    <tr>\n",
       "      <th>1062</th>\n",
       "      <td>1063</td>\n",
       "      <td>3</td>\n",
       "      <td>6</td>\n",
       "      <td>22</td>\n",
       "      <td>23</td>\n",
       "      <td>24</td>\n",
       "      <td>38</td>\n",
       "      <td>30</td>\n",
       "      <td>2023-04-15</td>\n",
       "      <td>2023-05-14 21:40:07</td>\n",
       "      <td>26392183125</td>\n",
       "      <td>7</td>\n",
       "      <td>108347135000</td>\n",
       "    </tr>\n",
       "    <tr>\n",
       "      <th>1063</th>\n",
       "      <td>1064</td>\n",
       "      <td>3</td>\n",
       "      <td>6</td>\n",
       "      <td>9</td>\n",
       "      <td>18</td>\n",
       "      <td>22</td>\n",
       "      <td>35</td>\n",
       "      <td>14</td>\n",
       "      <td>2023-04-22</td>\n",
       "      <td>2023-05-14 21:40:08</td>\n",
       "      <td>25615194014</td>\n",
       "      <td>19</td>\n",
       "      <td>109427584000</td>\n",
       "    </tr>\n",
       "    <tr>\n",
       "      <th>1064</th>\n",
       "      <td>1065</td>\n",
       "      <td>3</td>\n",
       "      <td>18</td>\n",
       "      <td>19</td>\n",
       "      <td>23</td>\n",
       "      <td>32</td>\n",
       "      <td>45</td>\n",
       "      <td>24</td>\n",
       "      <td>2023-04-29</td>\n",
       "      <td>2023-05-14 21:40:09</td>\n",
       "      <td>25936315132</td>\n",
       "      <td>14</td>\n",
       "      <td>108181727000</td>\n",
       "    </tr>\n",
       "    <tr>\n",
       "      <th>1065</th>\n",
       "      <td>1066</td>\n",
       "      <td>6</td>\n",
       "      <td>11</td>\n",
       "      <td>16</td>\n",
       "      <td>19</td>\n",
       "      <td>21</td>\n",
       "      <td>32</td>\n",
       "      <td>45</td>\n",
       "      <td>2023-05-06</td>\n",
       "      <td>2023-05-14 21:40:10</td>\n",
       "      <td>25064208750</td>\n",
       "      <td>15</td>\n",
       "      <td>106440950000</td>\n",
       "    </tr>\n",
       "    <tr>\n",
       "      <th>1066</th>\n",
       "      <td>1067</td>\n",
       "      <td>7</td>\n",
       "      <td>10</td>\n",
       "      <td>19</td>\n",
       "      <td>23</td>\n",
       "      <td>28</td>\n",
       "      <td>33</td>\n",
       "      <td>18</td>\n",
       "      <td>2023-05-13</td>\n",
       "      <td>2023-05-14 21:40:11</td>\n",
       "      <td>25754482130</td>\n",
       "      <td>13</td>\n",
       "      <td>110703299000</td>\n",
       "    </tr>\n",
       "  </tbody>\n",
       "</table>\n",
       "<p>1067 rows × 13 columns</p>\n",
       "</div>"
      ],
      "text/plain": [
       "      lotto_times  num1  num2 num3 num4 num5 num6 bonus  draw_time   \n",
       "0               1    10    23   29   33   37   40    16 2002-12-07  \\\n",
       "1               2     9    13   21   25   32   42     2 2002-12-14   \n",
       "2               3    11    16   19   21   27   31    30 2002-12-21   \n",
       "3               4    14    27   30   31   40   42     2 2002-12-28   \n",
       "4               5    16    24   29   40   41   42     3 2003-01-04   \n",
       "...           ...   ...   ...  ...  ...  ...  ...   ...        ...   \n",
       "1062         1063     3     6   22   23   24   38    30 2023-04-15   \n",
       "1063         1064     3     6    9   18   22   35    14 2023-04-22   \n",
       "1064         1065     3    18   19   23   32   45    24 2023-04-29   \n",
       "1065         1066     6    11   16   19   21   32    45 2023-05-06   \n",
       "1066         1067     7    10   19   23   28   33    18 2023-05-13   \n",
       "\n",
       "             create_time winning_amount winner_count  sales_amount  \n",
       "0    2023-05-14 21:26:33      863604600            0    3681782000  \n",
       "1    2023-05-14 21:26:33              0            1    4904274000  \n",
       "2    2023-05-14 21:26:34              0            1    4729342000  \n",
       "3    2023-05-14 21:26:34     1267147200            0    5271464000  \n",
       "4    2023-05-14 21:26:34     3041094900            0    6277102000  \n",
       "...                  ...            ...          ...           ...  \n",
       "1062 2023-05-14 21:40:07    26392183125            7  108347135000  \n",
       "1063 2023-05-14 21:40:08    25615194014           19  109427584000  \n",
       "1064 2023-05-14 21:40:09    25936315132           14  108181727000  \n",
       "1065 2023-05-14 21:40:10    25064208750           15  106440950000  \n",
       "1066 2023-05-14 21:40:11    25754482130           13  110703299000  \n",
       "\n",
       "[1067 rows x 13 columns]"
      ]
     },
     "execution_count": 84,
     "metadata": {},
     "output_type": "execute_result"
    }
   ],
   "source": [
    "data = db.readDB(schema='public',table='LottoHistory',colum='lotto_times, num1, num2, num3, num4, num5, num6, bonus, draw_time, create_time, winning_amount, winner_count, sales_amount')\n",
    "dataframe_lotto = pd.DataFrame(data, columns=['lotto_times', 'num1', 'num2', 'num3', 'num4', 'num5', 'num6', 'bonus', 'draw_time', 'create_time', 'winning_amount', 'winner_count', 'sales_amount'])\n",
    "dataframe_lotto"
   ]
  },
  {
   "cell_type": "code",
   "execution_count": 85,
   "metadata": {},
   "outputs": [
    {
     "data": {
      "text/html": [
       "<div>\n",
       "<style scoped>\n",
       "    .dataframe tbody tr th:only-of-type {\n",
       "        vertical-align: middle;\n",
       "    }\n",
       "\n",
       "    .dataframe tbody tr th {\n",
       "        vertical-align: top;\n",
       "    }\n",
       "\n",
       "    .dataframe thead th {\n",
       "        text-align: right;\n",
       "    }\n",
       "</style>\n",
       "<table border=\"1\" class=\"dataframe\">\n",
       "  <thead>\n",
       "    <tr style=\"text-align: right;\">\n",
       "      <th></th>\n",
       "      <th>num1</th>\n",
       "      <th>num2</th>\n",
       "      <th>num3</th>\n",
       "      <th>num4</th>\n",
       "      <th>num5</th>\n",
       "      <th>num6</th>\n",
       "      <th>bonus</th>\n",
       "      <th>winning_amount</th>\n",
       "      <th>winner_count</th>\n",
       "      <th>sales_amount</th>\n",
       "    </tr>\n",
       "  </thead>\n",
       "  <tbody>\n",
       "    <tr>\n",
       "      <th>0</th>\n",
       "      <td>10</td>\n",
       "      <td>23</td>\n",
       "      <td>29</td>\n",
       "      <td>33</td>\n",
       "      <td>37</td>\n",
       "      <td>40</td>\n",
       "      <td>16</td>\n",
       "      <td>863604600</td>\n",
       "      <td>0</td>\n",
       "      <td>3681782000</td>\n",
       "    </tr>\n",
       "    <tr>\n",
       "      <th>1</th>\n",
       "      <td>9</td>\n",
       "      <td>13</td>\n",
       "      <td>21</td>\n",
       "      <td>25</td>\n",
       "      <td>32</td>\n",
       "      <td>42</td>\n",
       "      <td>2</td>\n",
       "      <td>0</td>\n",
       "      <td>1</td>\n",
       "      <td>4904274000</td>\n",
       "    </tr>\n",
       "    <tr>\n",
       "      <th>2</th>\n",
       "      <td>11</td>\n",
       "      <td>16</td>\n",
       "      <td>19</td>\n",
       "      <td>21</td>\n",
       "      <td>27</td>\n",
       "      <td>31</td>\n",
       "      <td>30</td>\n",
       "      <td>0</td>\n",
       "      <td>1</td>\n",
       "      <td>4729342000</td>\n",
       "    </tr>\n",
       "    <tr>\n",
       "      <th>3</th>\n",
       "      <td>14</td>\n",
       "      <td>27</td>\n",
       "      <td>30</td>\n",
       "      <td>31</td>\n",
       "      <td>40</td>\n",
       "      <td>42</td>\n",
       "      <td>2</td>\n",
       "      <td>1267147200</td>\n",
       "      <td>0</td>\n",
       "      <td>5271464000</td>\n",
       "    </tr>\n",
       "    <tr>\n",
       "      <th>4</th>\n",
       "      <td>16</td>\n",
       "      <td>24</td>\n",
       "      <td>29</td>\n",
       "      <td>40</td>\n",
       "      <td>41</td>\n",
       "      <td>42</td>\n",
       "      <td>3</td>\n",
       "      <td>3041094900</td>\n",
       "      <td>0</td>\n",
       "      <td>6277102000</td>\n",
       "    </tr>\n",
       "    <tr>\n",
       "      <th>...</th>\n",
       "      <td>...</td>\n",
       "      <td>...</td>\n",
       "      <td>...</td>\n",
       "      <td>...</td>\n",
       "      <td>...</td>\n",
       "      <td>...</td>\n",
       "      <td>...</td>\n",
       "      <td>...</td>\n",
       "      <td>...</td>\n",
       "      <td>...</td>\n",
       "    </tr>\n",
       "    <tr>\n",
       "      <th>1062</th>\n",
       "      <td>3</td>\n",
       "      <td>6</td>\n",
       "      <td>22</td>\n",
       "      <td>23</td>\n",
       "      <td>24</td>\n",
       "      <td>38</td>\n",
       "      <td>30</td>\n",
       "      <td>26392183125</td>\n",
       "      <td>7</td>\n",
       "      <td>108347135000</td>\n",
       "    </tr>\n",
       "    <tr>\n",
       "      <th>1063</th>\n",
       "      <td>3</td>\n",
       "      <td>6</td>\n",
       "      <td>9</td>\n",
       "      <td>18</td>\n",
       "      <td>22</td>\n",
       "      <td>35</td>\n",
       "      <td>14</td>\n",
       "      <td>25615194014</td>\n",
       "      <td>19</td>\n",
       "      <td>109427584000</td>\n",
       "    </tr>\n",
       "    <tr>\n",
       "      <th>1064</th>\n",
       "      <td>3</td>\n",
       "      <td>18</td>\n",
       "      <td>19</td>\n",
       "      <td>23</td>\n",
       "      <td>32</td>\n",
       "      <td>45</td>\n",
       "      <td>24</td>\n",
       "      <td>25936315132</td>\n",
       "      <td>14</td>\n",
       "      <td>108181727000</td>\n",
       "    </tr>\n",
       "    <tr>\n",
       "      <th>1065</th>\n",
       "      <td>6</td>\n",
       "      <td>11</td>\n",
       "      <td>16</td>\n",
       "      <td>19</td>\n",
       "      <td>21</td>\n",
       "      <td>32</td>\n",
       "      <td>45</td>\n",
       "      <td>25064208750</td>\n",
       "      <td>15</td>\n",
       "      <td>106440950000</td>\n",
       "    </tr>\n",
       "    <tr>\n",
       "      <th>1066</th>\n",
       "      <td>7</td>\n",
       "      <td>10</td>\n",
       "      <td>19</td>\n",
       "      <td>23</td>\n",
       "      <td>28</td>\n",
       "      <td>33</td>\n",
       "      <td>18</td>\n",
       "      <td>25754482130</td>\n",
       "      <td>13</td>\n",
       "      <td>110703299000</td>\n",
       "    </tr>\n",
       "  </tbody>\n",
       "</table>\n",
       "<p>1067 rows × 10 columns</p>\n",
       "</div>"
      ],
      "text/plain": [
       "      num1  num2 num3 num4 num5 num6 bonus winning_amount winner_count   \n",
       "0       10    23   29   33   37   40    16      863604600            0  \\\n",
       "1        9    13   21   25   32   42     2              0            1   \n",
       "2       11    16   19   21   27   31    30              0            1   \n",
       "3       14    27   30   31   40   42     2     1267147200            0   \n",
       "4       16    24   29   40   41   42     3     3041094900            0   \n",
       "...    ...   ...  ...  ...  ...  ...   ...            ...          ...   \n",
       "1062     3     6   22   23   24   38    30    26392183125            7   \n",
       "1063     3     6    9   18   22   35    14    25615194014           19   \n",
       "1064     3    18   19   23   32   45    24    25936315132           14   \n",
       "1065     6    11   16   19   21   32    45    25064208750           15   \n",
       "1066     7    10   19   23   28   33    18    25754482130           13   \n",
       "\n",
       "      sales_amount  \n",
       "0       3681782000  \n",
       "1       4904274000  \n",
       "2       4729342000  \n",
       "3       5271464000  \n",
       "4       6277102000  \n",
       "...            ...  \n",
       "1062  108347135000  \n",
       "1063  109427584000  \n",
       "1064  108181727000  \n",
       "1065  106440950000  \n",
       "1066  110703299000  \n",
       "\n",
       "[1067 rows x 10 columns]"
      ]
     },
     "execution_count": 85,
     "metadata": {},
     "output_type": "execute_result"
    }
   ],
   "source": [
    "dataframe_actual = dataframe_lotto.loc[:,['num1', 'num2', 'num3', 'num4', 'num5', 'num6', 'bonus', 'winning_amount', 'winner_count', 'sales_amount']]\n",
    "dataframe_actual"
   ]
  },
  {
   "cell_type": "code",
   "execution_count": 86,
   "metadata": {},
   "outputs": [
    {
     "data": {
      "text/plain": [
       "1067"
      ]
     },
     "execution_count": 86,
     "metadata": {},
     "output_type": "execute_result"
    }
   ],
   "source": [
    "len(dataframe_actual)"
   ]
  },
  {
   "cell_type": "code",
   "execution_count": 87,
   "metadata": {},
   "outputs": [
    {
     "data": {
      "text/plain": [
       "array([[10, 23, 29, 33, 37, 40],\n",
       "       [ 9, 13, 21, 25, 32, 42],\n",
       "       [11, 16, 19, 21, 27, 31],\n",
       "       ...,\n",
       "       [ 3, 18, 19, 23, 32, 45],\n",
       "       [ 6, 11, 16, 19, 21, 32],\n",
       "       [ 7, 10, 19, 23, 28, 33]])"
      ]
     },
     "execution_count": 87,
     "metadata": {},
     "output_type": "execute_result"
    }
   ],
   "source": [
    "dataframe_actual.loc[:, ['num1', 'num2', 'num3', 'num4', 'num5', 'num6']].to_numpy(int)"
   ]
  },
  {
   "cell_type": "code",
   "execution_count": 88,
   "metadata": {},
   "outputs": [],
   "source": [
    "row_count = len(dataframe_actual)\n",
    "\n",
    "# 당첨번호를 원핫인코딩벡터(ohbin)으로 변환\n",
    "def numbers2ohbin(numbers):\n",
    "\n",
    "    ohbin = np.zeros(45) #45개의 빈 칸을 만듬\n",
    "\n",
    "    for i in range(6): #여섯개의 당첨번호에 대해서 반복함\n",
    "        ohbin[int(numbers[i])-1] = 1 #로또번호가 1부터 시작하지만 벡터의 인덱스 시작은 0부터 시작하므로 1을 뺌\n",
    "    \n",
    "    return ohbin\n",
    "\n",
    "# 원핫인코딩벡터(ohbin)를 번호로 변환\n",
    "def ohbin2numbers(ohbin):\n",
    "\n",
    "    numbers = []\n",
    "    \n",
    "    for i in range(len(ohbin)):\n",
    "        if ohbin[i] == 1.0: # 1.0으로 설정되어 있으면 해당 번호를 반환값에 추가한다.\n",
    "            numbers.append(i+1)\n",
    "    \n",
    "    return numbers\n",
    "    \n",
    "numbers = dataframe_actual.loc[:, ['num1', 'num2', 'num3', 'num4', 'num5', 'num6']].to_numpy(int)\n",
    "ohbins = list(map(numbers2ohbin, numbers))\n",
    "\n",
    "x_samples = ohbins[0:row_count-1]\n",
    "y_samples = ohbins[1:row_count]"
   ]
  },
  {
   "cell_type": "code",
   "execution_count": 92,
   "metadata": {},
   "outputs": [],
   "source": [
    "tf.config.set_soft_device_placement(True)\n",
    "tf.debugging.set_log_device_placement(True)"
   ]
  },
  {
   "cell_type": "code",
   "execution_count": 93,
   "metadata": {},
   "outputs": [],
   "source": [
    "# 데이터 나누기\n",
    "train_idx = (0, 900)\n",
    "val_idx = (901, 1000)\n",
    "test_idx = (1001, len(x_samples))"
   ]
  },
  {
   "cell_type": "code",
   "execution_count": 97,
   "metadata": {},
   "outputs": [
    {
     "name": "stderr",
     "output_type": "stream",
     "text": [
      "  0%|          | 1/200 [00:06<23:11,  6.99s/it]"
     ]
    },
    {
     "name": "stdout",
     "output_type": "stream",
     "text": [
      "epoch    0 train acc 0.024 loss 0.406 val acc 0.000 loss 0.399\n"
     ]
    },
    {
     "name": "stderr",
     "output_type": "stream",
     "text": [
      "  1%|          | 2/200 [00:12<20:23,  6.18s/it]"
     ]
    },
    {
     "name": "stdout",
     "output_type": "stream",
     "text": [
      "epoch    1 train acc 0.020 loss 0.396 val acc 0.000 loss 0.399\n"
     ]
    },
    {
     "name": "stderr",
     "output_type": "stream",
     "text": [
      "  2%|▏         | 3/200 [00:18<19:26,  5.92s/it]"
     ]
    },
    {
     "name": "stdout",
     "output_type": "stream",
     "text": [
      "epoch    2 train acc 0.020 loss 0.394 val acc 0.000 loss 0.399\n"
     ]
    },
    {
     "name": "stderr",
     "output_type": "stream",
     "text": [
      "  2%|▏         | 4/200 [00:23<19:01,  5.82s/it]"
     ]
    },
    {
     "name": "stdout",
     "output_type": "stream",
     "text": [
      "epoch    3 train acc 0.018 loss 0.391 val acc 0.000 loss 0.399\n"
     ]
    },
    {
     "name": "stderr",
     "output_type": "stream",
     "text": [
      "  2%|▎         | 5/200 [00:29<18:55,  5.82s/it]"
     ]
    },
    {
     "name": "stdout",
     "output_type": "stream",
     "text": [
      "epoch    4 train acc 0.018 loss 0.388 val acc 0.000 loss 0.401\n"
     ]
    },
    {
     "name": "stderr",
     "output_type": "stream",
     "text": [
      "  3%|▎         | 6/200 [00:35<18:53,  5.84s/it]"
     ]
    },
    {
     "name": "stdout",
     "output_type": "stream",
     "text": [
      "epoch    5 train acc 0.030 loss 0.383 val acc 0.000 loss 0.406\n"
     ]
    },
    {
     "name": "stderr",
     "output_type": "stream",
     "text": [
      "  4%|▎         | 7/200 [00:41<18:54,  5.88s/it]"
     ]
    },
    {
     "name": "stdout",
     "output_type": "stream",
     "text": [
      "epoch    6 train acc 0.031 loss 0.378 val acc 0.000 loss 0.411\n"
     ]
    },
    {
     "name": "stderr",
     "output_type": "stream",
     "text": [
      "  4%|▍         | 8/200 [00:47<18:55,  5.92s/it]"
     ]
    },
    {
     "name": "stdout",
     "output_type": "stream",
     "text": [
      "epoch    7 train acc 0.031 loss 0.372 val acc 0.000 loss 0.415\n"
     ]
    },
    {
     "name": "stderr",
     "output_type": "stream",
     "text": [
      "  4%|▍         | 9/200 [00:53<18:43,  5.88s/it]"
     ]
    },
    {
     "name": "stdout",
     "output_type": "stream",
     "text": [
      "epoch    8 train acc 0.042 loss 0.366 val acc 0.000 loss 0.419\n"
     ]
    },
    {
     "name": "stderr",
     "output_type": "stream",
     "text": [
      "  5%|▌         | 10/200 [00:59<18:25,  5.82s/it]"
     ]
    },
    {
     "name": "stdout",
     "output_type": "stream",
     "text": [
      "epoch    9 train acc 0.054 loss 0.360 val acc 0.000 loss 0.423\n"
     ]
    },
    {
     "name": "stderr",
     "output_type": "stream",
     "text": [
      "  6%|▌         | 11/200 [01:04<18:12,  5.78s/it]"
     ]
    },
    {
     "name": "stdout",
     "output_type": "stream",
     "text": [
      "epoch   10 train acc 0.059 loss 0.354 val acc 0.000 loss 0.427\n"
     ]
    },
    {
     "name": "stderr",
     "output_type": "stream",
     "text": [
      "  6%|▌         | 12/200 [01:10<18:10,  5.80s/it]"
     ]
    },
    {
     "name": "stdout",
     "output_type": "stream",
     "text": [
      "epoch   11 train acc 0.064 loss 0.347 val acc 0.000 loss 0.431\n"
     ]
    },
    {
     "name": "stderr",
     "output_type": "stream",
     "text": [
      "  6%|▋         | 13/200 [01:16<17:55,  5.75s/it]"
     ]
    },
    {
     "name": "stdout",
     "output_type": "stream",
     "text": [
      "epoch   12 train acc 0.073 loss 0.339 val acc 0.000 loss 0.435\n"
     ]
    },
    {
     "name": "stderr",
     "output_type": "stream",
     "text": [
      "  7%|▋         | 14/200 [01:21<17:46,  5.73s/it]"
     ]
    },
    {
     "name": "stdout",
     "output_type": "stream",
     "text": [
      "epoch   13 train acc 0.078 loss 0.331 val acc 0.010 loss 0.441\n"
     ]
    },
    {
     "name": "stderr",
     "output_type": "stream",
     "text": [
      "  8%|▊         | 15/200 [01:27<17:39,  5.73s/it]"
     ]
    },
    {
     "name": "stdout",
     "output_type": "stream",
     "text": [
      "epoch   14 train acc 0.087 loss 0.322 val acc 0.030 loss 0.446\n"
     ]
    },
    {
     "name": "stderr",
     "output_type": "stream",
     "text": [
      "  8%|▊         | 16/200 [01:33<17:37,  5.75s/it]"
     ]
    },
    {
     "name": "stdout",
     "output_type": "stream",
     "text": [
      "epoch   15 train acc 0.102 loss 0.312 val acc 0.030 loss 0.452\n"
     ]
    },
    {
     "name": "stderr",
     "output_type": "stream",
     "text": [
      "  8%|▊         | 17/200 [01:39<17:32,  5.75s/it]"
     ]
    },
    {
     "name": "stdout",
     "output_type": "stream",
     "text": [
      "epoch   16 train acc 0.110 loss 0.301 val acc 0.020 loss 0.459\n"
     ]
    },
    {
     "name": "stderr",
     "output_type": "stream",
     "text": [
      "  9%|▉         | 18/200 [01:45<17:33,  5.79s/it]"
     ]
    },
    {
     "name": "stdout",
     "output_type": "stream",
     "text": [
      "epoch   17 train acc 0.111 loss 0.291 val acc 0.030 loss 0.465\n"
     ]
    },
    {
     "name": "stderr",
     "output_type": "stream",
     "text": [
      " 10%|▉         | 19/200 [01:50<17:26,  5.78s/it]"
     ]
    },
    {
     "name": "stdout",
     "output_type": "stream",
     "text": [
      "epoch   18 train acc 0.119 loss 0.280 val acc 0.020 loss 0.472\n"
     ]
    },
    {
     "name": "stderr",
     "output_type": "stream",
     "text": [
      " 10%|█         | 20/200 [01:56<17:28,  5.82s/it]"
     ]
    },
    {
     "name": "stdout",
     "output_type": "stream",
     "text": [
      "epoch   19 train acc 0.126 loss 0.270 val acc 0.010 loss 0.479\n"
     ]
    },
    {
     "name": "stderr",
     "output_type": "stream",
     "text": [
      " 10%|█         | 21/200 [02:02<17:23,  5.83s/it]"
     ]
    },
    {
     "name": "stdout",
     "output_type": "stream",
     "text": [
      "epoch   20 train acc 0.127 loss 0.259 val acc 0.020 loss 0.486\n"
     ]
    },
    {
     "name": "stderr",
     "output_type": "stream",
     "text": [
      " 11%|█         | 22/200 [02:08<17:10,  5.79s/it]"
     ]
    },
    {
     "name": "stdout",
     "output_type": "stream",
     "text": [
      "epoch   21 train acc 0.142 loss 0.249 val acc 0.020 loss 0.496\n"
     ]
    },
    {
     "name": "stderr",
     "output_type": "stream",
     "text": [
      " 12%|█▏        | 23/200 [02:14<17:03,  5.78s/it]"
     ]
    },
    {
     "name": "stdout",
     "output_type": "stream",
     "text": [
      "epoch   22 train acc 0.141 loss 0.238 val acc 0.010 loss 0.504\n"
     ]
    },
    {
     "name": "stderr",
     "output_type": "stream",
     "text": [
      " 12%|█▏        | 24/200 [02:19<16:52,  5.76s/it]"
     ]
    },
    {
     "name": "stdout",
     "output_type": "stream",
     "text": [
      "epoch   23 train acc 0.139 loss 0.227 val acc 0.010 loss 0.513\n"
     ]
    },
    {
     "name": "stderr",
     "output_type": "stream",
     "text": [
      " 12%|█▎        | 25/200 [02:25<16:37,  5.70s/it]"
     ]
    },
    {
     "name": "stdout",
     "output_type": "stream",
     "text": [
      "epoch   24 train acc 0.132 loss 0.217 val acc 0.010 loss 0.525\n"
     ]
    },
    {
     "name": "stderr",
     "output_type": "stream",
     "text": [
      " 13%|█▎        | 26/200 [02:30<16:25,  5.67s/it]"
     ]
    },
    {
     "name": "stdout",
     "output_type": "stream",
     "text": [
      "epoch   25 train acc 0.133 loss 0.207 val acc 0.010 loss 0.538\n"
     ]
    },
    {
     "name": "stderr",
     "output_type": "stream",
     "text": [
      " 14%|█▎        | 27/200 [02:36<16:18,  5.66s/it]"
     ]
    },
    {
     "name": "stdout",
     "output_type": "stream",
     "text": [
      "epoch   26 train acc 0.150 loss 0.198 val acc 0.010 loss 0.552\n"
     ]
    },
    {
     "name": "stderr",
     "output_type": "stream",
     "text": [
      " 14%|█▍        | 28/200 [02:42<16:15,  5.67s/it]"
     ]
    },
    {
     "name": "stdout",
     "output_type": "stream",
     "text": [
      "epoch   27 train acc 0.154 loss 0.190 val acc 0.010 loss 0.567\n"
     ]
    },
    {
     "name": "stderr",
     "output_type": "stream",
     "text": [
      " 14%|█▍        | 29/200 [02:47<16:05,  5.65s/it]"
     ]
    },
    {
     "name": "stdout",
     "output_type": "stream",
     "text": [
      "epoch   28 train acc 0.151 loss 0.182 val acc 0.010 loss 0.584\n"
     ]
    },
    {
     "name": "stderr",
     "output_type": "stream",
     "text": [
      " 15%|█▌        | 30/200 [02:53<16:09,  5.70s/it]"
     ]
    },
    {
     "name": "stdout",
     "output_type": "stream",
     "text": [
      "epoch   29 train acc 0.151 loss 0.173 val acc 0.000 loss 0.595\n"
     ]
    },
    {
     "name": "stderr",
     "output_type": "stream",
     "text": [
      " 16%|█▌        | 31/200 [02:59<16:16,  5.78s/it]"
     ]
    },
    {
     "name": "stdout",
     "output_type": "stream",
     "text": [
      "epoch   30 train acc 0.137 loss 0.167 val acc 0.000 loss 0.609\n"
     ]
    },
    {
     "name": "stderr",
     "output_type": "stream",
     "text": [
      " 16%|█▌        | 32/200 [03:05<16:19,  5.83s/it]"
     ]
    },
    {
     "name": "stdout",
     "output_type": "stream",
     "text": [
      "epoch   31 train acc 0.139 loss 0.162 val acc 0.010 loss 0.625\n"
     ]
    },
    {
     "name": "stderr",
     "output_type": "stream",
     "text": [
      " 16%|█▋        | 33/200 [03:11<16:29,  5.93s/it]"
     ]
    },
    {
     "name": "stdout",
     "output_type": "stream",
     "text": [
      "epoch   32 train acc 0.137 loss 0.155 val acc 0.000 loss 0.631\n"
     ]
    },
    {
     "name": "stderr",
     "output_type": "stream",
     "text": [
      " 17%|█▋        | 34/200 [03:17<16:27,  5.95s/it]"
     ]
    },
    {
     "name": "stdout",
     "output_type": "stream",
     "text": [
      "epoch   33 train acc 0.151 loss 0.149 val acc 0.010 loss 0.639\n"
     ]
    },
    {
     "name": "stderr",
     "output_type": "stream",
     "text": [
      " 18%|█▊        | 35/200 [03:23<16:29,  5.99s/it]"
     ]
    },
    {
     "name": "stdout",
     "output_type": "stream",
     "text": [
      "epoch   34 train acc 0.157 loss 0.144 val acc 0.020 loss 0.647\n"
     ]
    },
    {
     "name": "stderr",
     "output_type": "stream",
     "text": [
      " 18%|█▊        | 36/200 [03:29<16:20,  5.98s/it]"
     ]
    },
    {
     "name": "stdout",
     "output_type": "stream",
     "text": [
      "epoch   35 train acc 0.154 loss 0.135 val acc 0.000 loss 0.661\n"
     ]
    },
    {
     "name": "stderr",
     "output_type": "stream",
     "text": [
      " 18%|█▊        | 37/200 [03:36<16:30,  6.07s/it]"
     ]
    },
    {
     "name": "stdout",
     "output_type": "stream",
     "text": [
      "epoch   36 train acc 0.158 loss 0.134 val acc 0.010 loss 0.681\n"
     ]
    },
    {
     "name": "stderr",
     "output_type": "stream",
     "text": [
      " 19%|█▉        | 38/200 [03:42<16:36,  6.15s/it]"
     ]
    },
    {
     "name": "stdout",
     "output_type": "stream",
     "text": [
      "epoch   37 train acc 0.164 loss 0.128 val acc 0.000 loss 0.681\n"
     ]
    },
    {
     "name": "stderr",
     "output_type": "stream",
     "text": [
      " 20%|█▉        | 39/200 [03:48<16:33,  6.17s/it]"
     ]
    },
    {
     "name": "stdout",
     "output_type": "stream",
     "text": [
      "epoch   38 train acc 0.171 loss 0.123 val acc 0.010 loss 0.699\n"
     ]
    },
    {
     "name": "stderr",
     "output_type": "stream",
     "text": [
      " 20%|██        | 40/200 [03:54<16:22,  6.14s/it]"
     ]
    },
    {
     "name": "stdout",
     "output_type": "stream",
     "text": [
      "epoch   39 train acc 0.160 loss 0.115 val acc 0.030 loss 0.710\n"
     ]
    },
    {
     "name": "stderr",
     "output_type": "stream",
     "text": [
      " 20%|██        | 41/200 [04:00<16:09,  6.10s/it]"
     ]
    },
    {
     "name": "stdout",
     "output_type": "stream",
     "text": [
      "epoch   40 train acc 0.166 loss 0.111 val acc 0.010 loss 0.718\n"
     ]
    },
    {
     "name": "stderr",
     "output_type": "stream",
     "text": [
      " 21%|██        | 42/200 [04:06<16:04,  6.10s/it]"
     ]
    },
    {
     "name": "stdout",
     "output_type": "stream",
     "text": [
      "epoch   41 train acc 0.148 loss 0.107 val acc 0.000 loss 0.737\n"
     ]
    },
    {
     "name": "stderr",
     "output_type": "stream",
     "text": [
      " 22%|██▏       | 43/200 [04:12<15:52,  6.07s/it]"
     ]
    },
    {
     "name": "stdout",
     "output_type": "stream",
     "text": [
      "epoch   42 train acc 0.166 loss 0.105 val acc 0.000 loss 0.740\n"
     ]
    },
    {
     "name": "stderr",
     "output_type": "stream",
     "text": [
      " 22%|██▏       | 44/200 [04:18<15:34,  5.99s/it]"
     ]
    },
    {
     "name": "stdout",
     "output_type": "stream",
     "text": [
      "epoch   43 train acc 0.141 loss 0.099 val acc 0.010 loss 0.766\n"
     ]
    },
    {
     "name": "stderr",
     "output_type": "stream",
     "text": [
      " 22%|██▎       | 45/200 [04:24<15:20,  5.94s/it]"
     ]
    },
    {
     "name": "stdout",
     "output_type": "stream",
     "text": [
      "epoch   44 train acc 0.153 loss 0.093 val acc 0.000 loss 0.770\n"
     ]
    },
    {
     "name": "stderr",
     "output_type": "stream",
     "text": [
      " 23%|██▎       | 46/200 [04:30<15:11,  5.92s/it]"
     ]
    },
    {
     "name": "stdout",
     "output_type": "stream",
     "text": [
      "epoch   45 train acc 0.158 loss 0.092 val acc 0.000 loss 0.775\n"
     ]
    },
    {
     "name": "stderr",
     "output_type": "stream",
     "text": [
      " 24%|██▎       | 47/200 [04:35<14:54,  5.84s/it]"
     ]
    },
    {
     "name": "stdout",
     "output_type": "stream",
     "text": [
      "epoch   46 train acc 0.137 loss 0.086 val acc 0.000 loss 0.794\n"
     ]
    },
    {
     "name": "stderr",
     "output_type": "stream",
     "text": [
      " 24%|██▍       | 48/200 [04:41<14:45,  5.83s/it]"
     ]
    },
    {
     "name": "stdout",
     "output_type": "stream",
     "text": [
      "epoch   47 train acc 0.154 loss 0.085 val acc 0.000 loss 0.791\n"
     ]
    },
    {
     "name": "stderr",
     "output_type": "stream",
     "text": [
      " 24%|██▍       | 49/200 [04:47<14:49,  5.89s/it]"
     ]
    },
    {
     "name": "stdout",
     "output_type": "stream",
     "text": [
      "epoch   48 train acc 0.159 loss 0.081 val acc 0.020 loss 0.812\n"
     ]
    },
    {
     "name": "stderr",
     "output_type": "stream",
     "text": [
      " 25%|██▌       | 50/200 [04:53<14:48,  5.93s/it]"
     ]
    },
    {
     "name": "stdout",
     "output_type": "stream",
     "text": [
      "epoch   49 train acc 0.170 loss 0.077 val acc 0.000 loss 0.829\n"
     ]
    },
    {
     "name": "stderr",
     "output_type": "stream",
     "text": [
      " 26%|██▌       | 51/200 [04:59<14:40,  5.91s/it]"
     ]
    },
    {
     "name": "stdout",
     "output_type": "stream",
     "text": [
      "epoch   50 train acc 0.151 loss 0.072 val acc 0.000 loss 0.851\n"
     ]
    },
    {
     "name": "stderr",
     "output_type": "stream",
     "text": [
      " 26%|██▌       | 52/200 [05:05<14:39,  5.94s/it]"
     ]
    },
    {
     "name": "stdout",
     "output_type": "stream",
     "text": [
      "epoch   51 train acc 0.157 loss 0.071 val acc 0.000 loss 0.845\n"
     ]
    },
    {
     "name": "stderr",
     "output_type": "stream",
     "text": [
      " 26%|██▋       | 53/200 [05:11<14:21,  5.86s/it]"
     ]
    },
    {
     "name": "stdout",
     "output_type": "stream",
     "text": [
      "epoch   52 train acc 0.158 loss 0.072 val acc 0.010 loss 0.853\n"
     ]
    },
    {
     "name": "stderr",
     "output_type": "stream",
     "text": [
      " 27%|██▋       | 54/200 [05:16<14:04,  5.78s/it]"
     ]
    },
    {
     "name": "stdout",
     "output_type": "stream",
     "text": [
      "epoch   53 train acc 0.153 loss 0.065 val acc 0.000 loss 0.881\n"
     ]
    },
    {
     "name": "stderr",
     "output_type": "stream",
     "text": [
      " 28%|██▊       | 55/200 [05:22<13:53,  5.75s/it]"
     ]
    },
    {
     "name": "stdout",
     "output_type": "stream",
     "text": [
      "epoch   54 train acc 0.152 loss 0.060 val acc 0.000 loss 0.887\n"
     ]
    },
    {
     "name": "stderr",
     "output_type": "stream",
     "text": [
      " 28%|██▊       | 56/200 [05:28<13:42,  5.71s/it]"
     ]
    },
    {
     "name": "stdout",
     "output_type": "stream",
     "text": [
      "epoch   55 train acc 0.168 loss 0.060 val acc 0.000 loss 0.889\n"
     ]
    },
    {
     "name": "stderr",
     "output_type": "stream",
     "text": [
      " 28%|██▊       | 57/200 [05:34<13:40,  5.74s/it]"
     ]
    },
    {
     "name": "stdout",
     "output_type": "stream",
     "text": [
      "epoch   56 train acc 0.148 loss 0.064 val acc 0.000 loss 0.904\n"
     ]
    },
    {
     "name": "stderr",
     "output_type": "stream",
     "text": [
      " 29%|██▉       | 58/200 [05:40<13:46,  5.82s/it]"
     ]
    },
    {
     "name": "stdout",
     "output_type": "stream",
     "text": [
      "epoch   57 train acc 0.156 loss 0.057 val acc 0.000 loss 0.914\n"
     ]
    },
    {
     "name": "stderr",
     "output_type": "stream",
     "text": [
      " 30%|██▉       | 59/200 [05:45<13:34,  5.77s/it]"
     ]
    },
    {
     "name": "stdout",
     "output_type": "stream",
     "text": [
      "epoch   58 train acc 0.152 loss 0.053 val acc 0.000 loss 0.918\n"
     ]
    },
    {
     "name": "stderr",
     "output_type": "stream",
     "text": [
      " 30%|███       | 60/200 [05:51<13:21,  5.72s/it]"
     ]
    },
    {
     "name": "stdout",
     "output_type": "stream",
     "text": [
      "epoch   59 train acc 0.160 loss 0.053 val acc 0.000 loss 0.924\n"
     ]
    },
    {
     "name": "stderr",
     "output_type": "stream",
     "text": [
      " 30%|███       | 61/200 [05:56<13:09,  5.68s/it]"
     ]
    },
    {
     "name": "stdout",
     "output_type": "stream",
     "text": [
      "epoch   60 train acc 0.157 loss 0.052 val acc 0.010 loss 0.958\n"
     ]
    },
    {
     "name": "stderr",
     "output_type": "stream",
     "text": [
      " 31%|███       | 62/200 [06:02<13:02,  5.67s/it]"
     ]
    },
    {
     "name": "stdout",
     "output_type": "stream",
     "text": [
      "epoch   61 train acc 0.148 loss 0.051 val acc 0.000 loss 0.949\n"
     ]
    },
    {
     "name": "stderr",
     "output_type": "stream",
     "text": [
      " 32%|███▏      | 63/200 [06:08<12:55,  5.66s/it]"
     ]
    },
    {
     "name": "stdout",
     "output_type": "stream",
     "text": [
      "epoch   62 train acc 0.158 loss 0.048 val acc 0.010 loss 0.946\n"
     ]
    },
    {
     "name": "stderr",
     "output_type": "stream",
     "text": [
      " 32%|███▏      | 64/200 [06:13<12:54,  5.70s/it]"
     ]
    },
    {
     "name": "stdout",
     "output_type": "stream",
     "text": [
      "epoch   63 train acc 0.156 loss 0.046 val acc 0.000 loss 0.967\n"
     ]
    },
    {
     "name": "stderr",
     "output_type": "stream",
     "text": [
      " 32%|███▎      | 65/200 [06:19<12:45,  5.67s/it]"
     ]
    },
    {
     "name": "stdout",
     "output_type": "stream",
     "text": [
      "epoch   64 train acc 0.172 loss 0.041 val acc 0.000 loss 0.979\n"
     ]
    },
    {
     "name": "stderr",
     "output_type": "stream",
     "text": [
      " 33%|███▎      | 66/200 [06:25<12:43,  5.70s/it]"
     ]
    },
    {
     "name": "stdout",
     "output_type": "stream",
     "text": [
      "epoch   65 train acc 0.158 loss 0.046 val acc 0.010 loss 0.981\n"
     ]
    },
    {
     "name": "stderr",
     "output_type": "stream",
     "text": [
      " 34%|███▎      | 67/200 [06:31<12:38,  5.71s/it]"
     ]
    },
    {
     "name": "stdout",
     "output_type": "stream",
     "text": [
      "epoch   66 train acc 0.147 loss 0.044 val acc 0.000 loss 0.976\n"
     ]
    },
    {
     "name": "stderr",
     "output_type": "stream",
     "text": [
      " 34%|███▍      | 68/200 [06:36<12:35,  5.72s/it]"
     ]
    },
    {
     "name": "stdout",
     "output_type": "stream",
     "text": [
      "epoch   67 train acc 0.164 loss 0.040 val acc 0.010 loss 0.973\n"
     ]
    },
    {
     "name": "stderr",
     "output_type": "stream",
     "text": [
      " 34%|███▍      | 69/200 [06:42<12:42,  5.82s/it]"
     ]
    },
    {
     "name": "stdout",
     "output_type": "stream",
     "text": [
      "epoch   68 train acc 0.166 loss 0.038 val acc 0.000 loss 1.006\n"
     ]
    },
    {
     "name": "stderr",
     "output_type": "stream",
     "text": [
      " 35%|███▌      | 70/200 [06:48<12:31,  5.78s/it]"
     ]
    },
    {
     "name": "stdout",
     "output_type": "stream",
     "text": [
      "epoch   69 train acc 0.174 loss 0.036 val acc 0.000 loss 1.033\n"
     ]
    },
    {
     "name": "stderr",
     "output_type": "stream",
     "text": [
      " 36%|███▌      | 71/200 [06:54<12:28,  5.80s/it]"
     ]
    },
    {
     "name": "stdout",
     "output_type": "stream",
     "text": [
      "epoch   70 train acc 0.167 loss 0.035 val acc 0.000 loss 1.020\n"
     ]
    },
    {
     "name": "stderr",
     "output_type": "stream",
     "text": [
      " 36%|███▌      | 72/200 [07:00<12:21,  5.80s/it]"
     ]
    },
    {
     "name": "stdout",
     "output_type": "stream",
     "text": [
      "epoch   71 train acc 0.161 loss 0.040 val acc 0.010 loss 1.036\n"
     ]
    },
    {
     "name": "stderr",
     "output_type": "stream",
     "text": [
      " 36%|███▋      | 73/200 [07:06<12:20,  5.83s/it]"
     ]
    },
    {
     "name": "stdout",
     "output_type": "stream",
     "text": [
      "epoch   72 train acc 0.169 loss 0.033 val acc 0.000 loss 1.049\n"
     ]
    },
    {
     "name": "stderr",
     "output_type": "stream",
     "text": [
      " 37%|███▋      | 74/200 [07:11<12:08,  5.78s/it]"
     ]
    },
    {
     "name": "stdout",
     "output_type": "stream",
     "text": [
      "epoch   73 train acc 0.133 loss 0.038 val acc 0.010 loss 1.045\n"
     ]
    },
    {
     "name": "stderr",
     "output_type": "stream",
     "text": [
      " 38%|███▊      | 75/200 [07:17<11:56,  5.73s/it]"
     ]
    },
    {
     "name": "stdout",
     "output_type": "stream",
     "text": [
      "epoch   74 train acc 0.158 loss 0.032 val acc 0.020 loss 1.051\n"
     ]
    },
    {
     "name": "stderr",
     "output_type": "stream",
     "text": [
      " 38%|███▊      | 76/200 [07:23<11:50,  5.73s/it]"
     ]
    },
    {
     "name": "stdout",
     "output_type": "stream",
     "text": [
      "epoch   75 train acc 0.156 loss 0.029 val acc 0.000 loss 1.071\n"
     ]
    },
    {
     "name": "stderr",
     "output_type": "stream",
     "text": [
      " 38%|███▊      | 77/200 [07:28<11:44,  5.73s/it]"
     ]
    },
    {
     "name": "stdout",
     "output_type": "stream",
     "text": [
      "epoch   76 train acc 0.167 loss 0.028 val acc 0.010 loss 1.065\n"
     ]
    },
    {
     "name": "stderr",
     "output_type": "stream",
     "text": [
      " 39%|███▉      | 78/200 [07:34<11:38,  5.73s/it]"
     ]
    },
    {
     "name": "stdout",
     "output_type": "stream",
     "text": [
      "epoch   77 train acc 0.169 loss 0.030 val acc 0.000 loss 1.071\n"
     ]
    },
    {
     "name": "stderr",
     "output_type": "stream",
     "text": [
      " 40%|███▉      | 79/200 [07:40<11:29,  5.70s/it]"
     ]
    },
    {
     "name": "stdout",
     "output_type": "stream",
     "text": [
      "epoch   78 train acc 0.167 loss 0.027 val acc 0.020 loss 1.074\n"
     ]
    },
    {
     "name": "stderr",
     "output_type": "stream",
     "text": [
      " 40%|████      | 80/200 [07:45<11:21,  5.68s/it]"
     ]
    },
    {
     "name": "stdout",
     "output_type": "stream",
     "text": [
      "epoch   79 train acc 0.162 loss 0.027 val acc 0.010 loss 1.073\n"
     ]
    },
    {
     "name": "stderr",
     "output_type": "stream",
     "text": [
      " 40%|████      | 81/200 [07:51<11:14,  5.67s/it]"
     ]
    },
    {
     "name": "stdout",
     "output_type": "stream",
     "text": [
      "epoch   80 train acc 0.152 loss 0.033 val acc 0.010 loss 1.092\n"
     ]
    },
    {
     "name": "stderr",
     "output_type": "stream",
     "text": [
      " 41%|████      | 82/200 [07:57<11:06,  5.65s/it]"
     ]
    },
    {
     "name": "stdout",
     "output_type": "stream",
     "text": [
      "epoch   81 train acc 0.159 loss 0.027 val acc 0.000 loss 1.115\n"
     ]
    },
    {
     "name": "stderr",
     "output_type": "stream",
     "text": [
      " 42%|████▏     | 83/200 [08:02<10:59,  5.64s/it]"
     ]
    },
    {
     "name": "stdout",
     "output_type": "stream",
     "text": [
      "epoch   82 train acc 0.190 loss 0.026 val acc 0.020 loss 1.100\n"
     ]
    },
    {
     "name": "stderr",
     "output_type": "stream",
     "text": [
      " 42%|████▏     | 84/200 [08:08<10:58,  5.68s/it]"
     ]
    },
    {
     "name": "stdout",
     "output_type": "stream",
     "text": [
      "epoch   83 train acc 0.178 loss 0.023 val acc 0.020 loss 1.110\n"
     ]
    },
    {
     "name": "stderr",
     "output_type": "stream",
     "text": [
      " 42%|████▎     | 85/200 [08:14<10:53,  5.68s/it]"
     ]
    },
    {
     "name": "stdout",
     "output_type": "stream",
     "text": [
      "epoch   84 train acc 0.146 loss 0.025 val acc 0.010 loss 1.146\n"
     ]
    },
    {
     "name": "stderr",
     "output_type": "stream",
     "text": [
      " 43%|████▎     | 86/200 [08:19<10:43,  5.65s/it]"
     ]
    },
    {
     "name": "stdout",
     "output_type": "stream",
     "text": [
      "epoch   85 train acc 0.160 loss 0.023 val acc 0.010 loss 1.137\n"
     ]
    },
    {
     "name": "stderr",
     "output_type": "stream",
     "text": [
      " 44%|████▎     | 87/200 [08:25<10:41,  5.68s/it]"
     ]
    },
    {
     "name": "stdout",
     "output_type": "stream",
     "text": [
      "epoch   86 train acc 0.164 loss 0.021 val acc 0.020 loss 1.175\n"
     ]
    },
    {
     "name": "stderr",
     "output_type": "stream",
     "text": [
      " 44%|████▍     | 88/200 [08:31<10:39,  5.71s/it]"
     ]
    },
    {
     "name": "stdout",
     "output_type": "stream",
     "text": [
      "epoch   87 train acc 0.151 loss 0.023 val acc 0.010 loss 1.130\n"
     ]
    },
    {
     "name": "stderr",
     "output_type": "stream",
     "text": [
      " 44%|████▍     | 89/200 [08:36<10:35,  5.72s/it]"
     ]
    },
    {
     "name": "stdout",
     "output_type": "stream",
     "text": [
      "epoch   88 train acc 0.161 loss 0.027 val acc 0.010 loss 1.133\n"
     ]
    },
    {
     "name": "stderr",
     "output_type": "stream",
     "text": [
      " 45%|████▌     | 90/200 [08:42<10:30,  5.73s/it]"
     ]
    },
    {
     "name": "stdout",
     "output_type": "stream",
     "text": [
      "epoch   89 train acc 0.180 loss 0.027 val acc 0.010 loss 1.138\n"
     ]
    },
    {
     "name": "stderr",
     "output_type": "stream",
     "text": [
      " 46%|████▌     | 91/200 [08:48<10:20,  5.70s/it]"
     ]
    },
    {
     "name": "stdout",
     "output_type": "stream",
     "text": [
      "epoch   90 train acc 0.160 loss 0.022 val acc 0.010 loss 1.167\n"
     ]
    },
    {
     "name": "stderr",
     "output_type": "stream",
     "text": [
      " 46%|████▌     | 92/200 [08:53<10:13,  5.68s/it]"
     ]
    },
    {
     "name": "stdout",
     "output_type": "stream",
     "text": [
      "epoch   91 train acc 0.177 loss 0.018 val acc 0.010 loss 1.158\n"
     ]
    },
    {
     "name": "stderr",
     "output_type": "stream",
     "text": [
      " 46%|████▋     | 93/200 [08:59<10:10,  5.70s/it]"
     ]
    },
    {
     "name": "stdout",
     "output_type": "stream",
     "text": [
      "epoch   92 train acc 0.146 loss 0.018 val acc 0.030 loss 1.167\n"
     ]
    },
    {
     "name": "stderr",
     "output_type": "stream",
     "text": [
      " 47%|████▋     | 94/200 [09:05<10:03,  5.69s/it]"
     ]
    },
    {
     "name": "stdout",
     "output_type": "stream",
     "text": [
      "epoch   93 train acc 0.162 loss 0.019 val acc 0.010 loss 1.216\n"
     ]
    },
    {
     "name": "stderr",
     "output_type": "stream",
     "text": [
      " 48%|████▊     | 95/200 [09:11<09:56,  5.68s/it]"
     ]
    },
    {
     "name": "stdout",
     "output_type": "stream",
     "text": [
      "epoch   94 train acc 0.169 loss 0.026 val acc 0.020 loss 1.206\n"
     ]
    },
    {
     "name": "stderr",
     "output_type": "stream",
     "text": [
      " 48%|████▊     | 96/200 [09:16<09:49,  5.67s/it]"
     ]
    },
    {
     "name": "stdout",
     "output_type": "stream",
     "text": [
      "epoch   95 train acc 0.156 loss 0.019 val acc 0.010 loss 1.184\n"
     ]
    },
    {
     "name": "stderr",
     "output_type": "stream",
     "text": [
      " 48%|████▊     | 97/200 [09:22<09:41,  5.64s/it]"
     ]
    },
    {
     "name": "stdout",
     "output_type": "stream",
     "text": [
      "epoch   96 train acc 0.169 loss 0.017 val acc 0.020 loss 1.224\n"
     ]
    },
    {
     "name": "stderr",
     "output_type": "stream",
     "text": [
      " 49%|████▉     | 98/200 [09:27<09:32,  5.61s/it]"
     ]
    },
    {
     "name": "stdout",
     "output_type": "stream",
     "text": [
      "epoch   97 train acc 0.163 loss 0.017 val acc 0.020 loss 1.237\n"
     ]
    },
    {
     "name": "stderr",
     "output_type": "stream",
     "text": [
      " 50%|████▉     | 99/200 [09:33<09:24,  5.59s/it]"
     ]
    },
    {
     "name": "stdout",
     "output_type": "stream",
     "text": [
      "epoch   98 train acc 0.156 loss 0.018 val acc 0.010 loss 1.219\n"
     ]
    },
    {
     "name": "stderr",
     "output_type": "stream",
     "text": [
      " 50%|█████     | 100/200 [09:38<09:18,  5.58s/it]"
     ]
    },
    {
     "name": "stdout",
     "output_type": "stream",
     "text": [
      "epoch   99 train acc 0.173 loss 0.016 val acc 0.020 loss 1.210\n"
     ]
    },
    {
     "name": "stderr",
     "output_type": "stream",
     "text": [
      " 50%|█████     | 101/200 [09:44<09:14,  5.60s/it]"
     ]
    },
    {
     "name": "stdout",
     "output_type": "stream",
     "text": [
      "epoch  100 train acc 0.150 loss 0.017 val acc 0.020 loss 1.231\n"
     ]
    },
    {
     "name": "stderr",
     "output_type": "stream",
     "text": [
      " 51%|█████     | 102/200 [09:50<09:08,  5.60s/it]"
     ]
    },
    {
     "name": "stdout",
     "output_type": "stream",
     "text": [
      "epoch  101 train acc 0.141 loss 0.019 val acc 0.020 loss 1.224\n"
     ]
    },
    {
     "name": "stderr",
     "output_type": "stream",
     "text": [
      " 52%|█████▏    | 103/200 [09:55<09:06,  5.63s/it]"
     ]
    },
    {
     "name": "stdout",
     "output_type": "stream",
     "text": [
      "epoch  102 train acc 0.168 loss 0.018 val acc 0.020 loss 1.233\n"
     ]
    },
    {
     "name": "stderr",
     "output_type": "stream",
     "text": [
      " 52%|█████▏    | 104/200 [10:01<09:00,  5.63s/it]"
     ]
    },
    {
     "name": "stdout",
     "output_type": "stream",
     "text": [
      "epoch  103 train acc 0.167 loss 0.015 val acc 0.020 loss 1.267\n"
     ]
    },
    {
     "name": "stderr",
     "output_type": "stream",
     "text": [
      " 52%|█████▎    | 105/200 [10:07<08:57,  5.66s/it]"
     ]
    },
    {
     "name": "stdout",
     "output_type": "stream",
     "text": [
      "epoch  104 train acc 0.169 loss 0.013 val acc 0.020 loss 1.234\n"
     ]
    },
    {
     "name": "stderr",
     "output_type": "stream",
     "text": [
      " 53%|█████▎    | 106/200 [10:13<08:57,  5.71s/it]"
     ]
    },
    {
     "name": "stdout",
     "output_type": "stream",
     "text": [
      "epoch  105 train acc 0.188 loss 0.016 val acc 0.030 loss 1.216\n"
     ]
    },
    {
     "name": "stderr",
     "output_type": "stream",
     "text": [
      " 54%|█████▎    | 107/200 [10:18<08:51,  5.72s/it]"
     ]
    },
    {
     "name": "stdout",
     "output_type": "stream",
     "text": [
      "epoch  106 train acc 0.167 loss 0.018 val acc 0.020 loss 1.287\n"
     ]
    },
    {
     "name": "stderr",
     "output_type": "stream",
     "text": [
      " 54%|█████▍    | 108/200 [10:24<08:46,  5.73s/it]"
     ]
    },
    {
     "name": "stdout",
     "output_type": "stream",
     "text": [
      "epoch  107 train acc 0.168 loss 0.016 val acc 0.040 loss 1.252\n"
     ]
    },
    {
     "name": "stderr",
     "output_type": "stream",
     "text": [
      " 55%|█████▍    | 109/200 [10:30<08:44,  5.76s/it]"
     ]
    },
    {
     "name": "stdout",
     "output_type": "stream",
     "text": [
      "epoch  108 train acc 0.180 loss 0.012 val acc 0.020 loss 1.281\n"
     ]
    },
    {
     "name": "stderr",
     "output_type": "stream",
     "text": [
      " 55%|█████▌    | 110/200 [10:36<08:40,  5.78s/it]"
     ]
    },
    {
     "name": "stdout",
     "output_type": "stream",
     "text": [
      "epoch  109 train acc 0.177 loss 0.010 val acc 0.020 loss 1.264\n"
     ]
    },
    {
     "name": "stderr",
     "output_type": "stream",
     "text": [
      " 56%|█████▌    | 111/200 [10:41<08:31,  5.74s/it]"
     ]
    },
    {
     "name": "stdout",
     "output_type": "stream",
     "text": [
      "epoch  110 train acc 0.147 loss 0.012 val acc 0.040 loss 1.293\n"
     ]
    },
    {
     "name": "stderr",
     "output_type": "stream",
     "text": [
      " 56%|█████▌    | 112/200 [10:47<08:23,  5.72s/it]"
     ]
    },
    {
     "name": "stdout",
     "output_type": "stream",
     "text": [
      "epoch  111 train acc 0.148 loss 0.017 val acc 0.030 loss 1.295\n"
     ]
    },
    {
     "name": "stderr",
     "output_type": "stream",
     "text": [
      " 56%|█████▋    | 113/200 [10:53<08:17,  5.72s/it]"
     ]
    },
    {
     "name": "stdout",
     "output_type": "stream",
     "text": [
      "epoch  112 train acc 0.178 loss 0.019 val acc 0.030 loss 1.303\n"
     ]
    },
    {
     "name": "stderr",
     "output_type": "stream",
     "text": [
      " 57%|█████▋    | 114/200 [10:58<08:11,  5.72s/it]"
     ]
    },
    {
     "name": "stdout",
     "output_type": "stream",
     "text": [
      "epoch  113 train acc 0.167 loss 0.015 val acc 0.040 loss 1.301\n"
     ]
    },
    {
     "name": "stderr",
     "output_type": "stream",
     "text": [
      " 57%|█████▊    | 115/200 [11:04<08:07,  5.74s/it]"
     ]
    },
    {
     "name": "stdout",
     "output_type": "stream",
     "text": [
      "epoch  114 train acc 0.167 loss 0.017 val acc 0.051 loss 1.308\n"
     ]
    },
    {
     "name": "stderr",
     "output_type": "stream",
     "text": [
      " 58%|█████▊    | 116/200 [11:10<08:01,  5.73s/it]"
     ]
    },
    {
     "name": "stdout",
     "output_type": "stream",
     "text": [
      "epoch  115 train acc 0.159 loss 0.012 val acc 0.020 loss 1.319\n"
     ]
    },
    {
     "name": "stderr",
     "output_type": "stream",
     "text": [
      " 58%|█████▊    | 117/200 [11:16<07:59,  5.78s/it]"
     ]
    },
    {
     "name": "stdout",
     "output_type": "stream",
     "text": [
      "epoch  116 train acc 0.162 loss 0.011 val acc 0.040 loss 1.342\n"
     ]
    },
    {
     "name": "stderr",
     "output_type": "stream",
     "text": [
      " 59%|█████▉    | 118/200 [11:22<07:55,  5.79s/it]"
     ]
    },
    {
     "name": "stdout",
     "output_type": "stream",
     "text": [
      "epoch  117 train acc 0.184 loss 0.010 val acc 0.040 loss 1.341\n"
     ]
    },
    {
     "name": "stderr",
     "output_type": "stream",
     "text": [
      " 60%|█████▉    | 119/200 [11:27<07:46,  5.76s/it]"
     ]
    },
    {
     "name": "stdout",
     "output_type": "stream",
     "text": [
      "epoch  118 train acc 0.190 loss 0.008 val acc 0.040 loss 1.352\n"
     ]
    },
    {
     "name": "stderr",
     "output_type": "stream",
     "text": [
      " 60%|██████    | 120/200 [11:33<07:38,  5.73s/it]"
     ]
    },
    {
     "name": "stdout",
     "output_type": "stream",
     "text": [
      "epoch  119 train acc 0.148 loss 0.011 val acc 0.020 loss 1.362\n"
     ]
    },
    {
     "name": "stderr",
     "output_type": "stream",
     "text": [
      " 60%|██████    | 121/200 [11:39<07:30,  5.70s/it]"
     ]
    },
    {
     "name": "stdout",
     "output_type": "stream",
     "text": [
      "epoch  120 train acc 0.174 loss 0.012 val acc 0.020 loss 1.351\n"
     ]
    },
    {
     "name": "stderr",
     "output_type": "stream",
     "text": [
      " 61%|██████    | 122/200 [11:44<07:23,  5.69s/it]"
     ]
    },
    {
     "name": "stdout",
     "output_type": "stream",
     "text": [
      "epoch  121 train acc 0.141 loss 0.012 val acc 0.030 loss 1.336\n"
     ]
    },
    {
     "name": "stderr",
     "output_type": "stream",
     "text": [
      " 62%|██████▏   | 123/200 [11:50<07:17,  5.68s/it]"
     ]
    },
    {
     "name": "stdout",
     "output_type": "stream",
     "text": [
      "epoch  122 train acc 0.164 loss 0.015 val acc 0.020 loss 1.350\n"
     ]
    },
    {
     "name": "stderr",
     "output_type": "stream",
     "text": [
      " 62%|██████▏   | 124/200 [11:56<07:10,  5.66s/it]"
     ]
    },
    {
     "name": "stdout",
     "output_type": "stream",
     "text": [
      "epoch  123 train acc 0.166 loss 0.012 val acc 0.040 loss 1.396\n"
     ]
    },
    {
     "name": "stderr",
     "output_type": "stream",
     "text": [
      " 62%|██████▎   | 125/200 [12:01<07:03,  5.64s/it]"
     ]
    },
    {
     "name": "stdout",
     "output_type": "stream",
     "text": [
      "epoch  124 train acc 0.137 loss 0.010 val acc 0.040 loss 1.407\n"
     ]
    },
    {
     "name": "stderr",
     "output_type": "stream",
     "text": [
      " 63%|██████▎   | 126/200 [12:07<06:56,  5.63s/it]"
     ]
    },
    {
     "name": "stdout",
     "output_type": "stream",
     "text": [
      "epoch  125 train acc 0.150 loss 0.012 val acc 0.030 loss 1.397\n"
     ]
    },
    {
     "name": "stderr",
     "output_type": "stream",
     "text": [
      " 64%|██████▎   | 127/200 [12:12<06:51,  5.63s/it]"
     ]
    },
    {
     "name": "stdout",
     "output_type": "stream",
     "text": [
      "epoch  126 train acc 0.163 loss 0.012 val acc 0.040 loss 1.364\n"
     ]
    },
    {
     "name": "stderr",
     "output_type": "stream",
     "text": [
      " 64%|██████▍   | 128/200 [12:18<06:45,  5.63s/it]"
     ]
    },
    {
     "name": "stdout",
     "output_type": "stream",
     "text": [
      "epoch  127 train acc 0.180 loss 0.011 val acc 0.020 loss 1.404\n"
     ]
    },
    {
     "name": "stderr",
     "output_type": "stream",
     "text": [
      " 64%|██████▍   | 129/200 [12:24<06:42,  5.67s/it]"
     ]
    },
    {
     "name": "stdout",
     "output_type": "stream",
     "text": [
      "epoch  128 train acc 0.174 loss 0.011 val acc 0.010 loss 1.437\n"
     ]
    },
    {
     "name": "stderr",
     "output_type": "stream",
     "text": [
      " 65%|██████▌   | 130/200 [12:30<06:37,  5.68s/it]"
     ]
    },
    {
     "name": "stdout",
     "output_type": "stream",
     "text": [
      "epoch  129 train acc 0.147 loss 0.009 val acc 0.000 loss 1.423\n"
     ]
    },
    {
     "name": "stderr",
     "output_type": "stream",
     "text": [
      " 66%|██████▌   | 131/200 [12:35<06:31,  5.67s/it]"
     ]
    },
    {
     "name": "stdout",
     "output_type": "stream",
     "text": [
      "epoch  130 train acc 0.129 loss 0.009 val acc 0.010 loss 1.446\n"
     ]
    },
    {
     "name": "stderr",
     "output_type": "stream",
     "text": [
      " 66%|██████▌   | 132/200 [12:41<06:27,  5.70s/it]"
     ]
    },
    {
     "name": "stdout",
     "output_type": "stream",
     "text": [
      "epoch  131 train acc 0.161 loss 0.010 val acc 0.020 loss 1.410\n"
     ]
    },
    {
     "name": "stderr",
     "output_type": "stream",
     "text": [
      " 66%|██████▋   | 133/200 [12:47<06:21,  5.69s/it]"
     ]
    },
    {
     "name": "stdout",
     "output_type": "stream",
     "text": [
      "epoch  132 train acc 0.170 loss 0.013 val acc 0.020 loss 1.406\n"
     ]
    },
    {
     "name": "stderr",
     "output_type": "stream",
     "text": [
      " 67%|██████▋   | 134/200 [12:52<06:15,  5.69s/it]"
     ]
    },
    {
     "name": "stdout",
     "output_type": "stream",
     "text": [
      "epoch  133 train acc 0.166 loss 0.016 val acc 0.010 loss 1.401\n"
     ]
    },
    {
     "name": "stderr",
     "output_type": "stream",
     "text": [
      " 68%|██████▊   | 135/200 [12:58<06:10,  5.70s/it]"
     ]
    },
    {
     "name": "stdout",
     "output_type": "stream",
     "text": [
      "epoch  134 train acc 0.182 loss 0.009 val acc 0.030 loss 1.411\n"
     ]
    },
    {
     "name": "stderr",
     "output_type": "stream",
     "text": [
      " 68%|██████▊   | 136/200 [13:04<06:09,  5.78s/it]"
     ]
    },
    {
     "name": "stdout",
     "output_type": "stream",
     "text": [
      "epoch  135 train acc 0.169 loss 0.005 val acc 0.020 loss 1.441\n"
     ]
    },
    {
     "name": "stderr",
     "output_type": "stream",
     "text": [
      " 68%|██████▊   | 137/200 [13:10<06:02,  5.76s/it]"
     ]
    },
    {
     "name": "stdout",
     "output_type": "stream",
     "text": [
      "epoch  136 train acc 0.168 loss 0.005 val acc 0.020 loss 1.446\n"
     ]
    },
    {
     "name": "stderr",
     "output_type": "stream",
     "text": [
      " 69%|██████▉   | 138/200 [13:15<05:54,  5.71s/it]"
     ]
    },
    {
     "name": "stdout",
     "output_type": "stream",
     "text": [
      "epoch  137 train acc 0.180 loss 0.008 val acc 0.020 loss 1.428\n"
     ]
    },
    {
     "name": "stderr",
     "output_type": "stream",
     "text": [
      " 70%|██████▉   | 139/200 [13:21<05:45,  5.67s/it]"
     ]
    },
    {
     "name": "stdout",
     "output_type": "stream",
     "text": [
      "epoch  138 train acc 0.168 loss 0.011 val acc 0.000 loss 1.471\n"
     ]
    },
    {
     "name": "stderr",
     "output_type": "stream",
     "text": [
      " 70%|███████   | 140/200 [13:26<05:38,  5.65s/it]"
     ]
    },
    {
     "name": "stdout",
     "output_type": "stream",
     "text": [
      "epoch  139 train acc 0.162 loss 0.012 val acc 0.010 loss 1.437\n"
     ]
    },
    {
     "name": "stderr",
     "output_type": "stream",
     "text": [
      " 70%|███████   | 141/200 [13:32<05:32,  5.64s/it]"
     ]
    },
    {
     "name": "stdout",
     "output_type": "stream",
     "text": [
      "epoch  140 train acc 0.160 loss 0.010 val acc 0.010 loss 1.458\n"
     ]
    },
    {
     "name": "stderr",
     "output_type": "stream",
     "text": [
      " 71%|███████   | 142/200 [13:38<05:26,  5.63s/it]"
     ]
    },
    {
     "name": "stdout",
     "output_type": "stream",
     "text": [
      "epoch  141 train acc 0.168 loss 0.009 val acc 0.010 loss 1.470\n"
     ]
    },
    {
     "name": "stderr",
     "output_type": "stream",
     "text": [
      " 72%|███████▏  | 143/200 [13:43<05:20,  5.62s/it]"
     ]
    },
    {
     "name": "stdout",
     "output_type": "stream",
     "text": [
      "epoch  142 train acc 0.189 loss 0.007 val acc 0.020 loss 1.486\n"
     ]
    },
    {
     "name": "stderr",
     "output_type": "stream",
     "text": [
      " 72%|███████▏  | 144/200 [13:49<05:15,  5.63s/it]"
     ]
    },
    {
     "name": "stdout",
     "output_type": "stream",
     "text": [
      "epoch  143 train acc 0.209 loss 0.007 val acc 0.030 loss 1.471\n"
     ]
    },
    {
     "name": "stderr",
     "output_type": "stream",
     "text": [
      " 72%|███████▎  | 145/200 [13:55<05:11,  5.66s/it]"
     ]
    },
    {
     "name": "stdout",
     "output_type": "stream",
     "text": [
      "epoch  144 train acc 0.183 loss 0.009 val acc 0.020 loss 1.467\n"
     ]
    },
    {
     "name": "stderr",
     "output_type": "stream",
     "text": [
      " 73%|███████▎  | 146/200 [14:00<05:05,  5.65s/it]"
     ]
    },
    {
     "name": "stdout",
     "output_type": "stream",
     "text": [
      "epoch  145 train acc 0.160 loss 0.009 val acc 0.030 loss 1.463\n"
     ]
    },
    {
     "name": "stderr",
     "output_type": "stream",
     "text": [
      " 74%|███████▎  | 147/200 [14:06<05:00,  5.66s/it]"
     ]
    },
    {
     "name": "stdout",
     "output_type": "stream",
     "text": [
      "epoch  146 train acc 0.154 loss 0.011 val acc 0.020 loss 1.451\n"
     ]
    },
    {
     "name": "stderr",
     "output_type": "stream",
     "text": [
      " 74%|███████▍  | 148/200 [14:12<04:56,  5.71s/it]"
     ]
    },
    {
     "name": "stdout",
     "output_type": "stream",
     "text": [
      "epoch  147 train acc 0.186 loss 0.010 val acc 0.010 loss 1.488\n"
     ]
    },
    {
     "name": "stderr",
     "output_type": "stream",
     "text": [
      " 74%|███████▍  | 149/200 [14:18<04:53,  5.75s/it]"
     ]
    },
    {
     "name": "stdout",
     "output_type": "stream",
     "text": [
      "epoch  148 train acc 0.187 loss 0.011 val acc 0.010 loss 1.489\n"
     ]
    },
    {
     "name": "stderr",
     "output_type": "stream",
     "text": [
      " 75%|███████▌  | 150/200 [14:23<04:48,  5.77s/it]"
     ]
    },
    {
     "name": "stdout",
     "output_type": "stream",
     "text": [
      "epoch  149 train acc 0.169 loss 0.006 val acc 0.040 loss 1.502\n"
     ]
    },
    {
     "name": "stderr",
     "output_type": "stream",
     "text": [
      " 76%|███████▌  | 151/200 [14:29<04:44,  5.81s/it]"
     ]
    },
    {
     "name": "stdout",
     "output_type": "stream",
     "text": [
      "epoch  150 train acc 0.162 loss 0.006 val acc 0.030 loss 1.493\n"
     ]
    },
    {
     "name": "stderr",
     "output_type": "stream",
     "text": [
      " 76%|███████▌  | 152/200 [14:35<04:38,  5.81s/it]"
     ]
    },
    {
     "name": "stdout",
     "output_type": "stream",
     "text": [
      "epoch  151 train acc 0.171 loss 0.007 val acc 0.010 loss 1.500\n"
     ]
    },
    {
     "name": "stderr",
     "output_type": "stream",
     "text": [
      " 76%|███████▋  | 153/200 [14:41<04:32,  5.79s/it]"
     ]
    },
    {
     "name": "stdout",
     "output_type": "stream",
     "text": [
      "epoch  152 train acc 0.164 loss 0.008 val acc 0.020 loss 1.515\n"
     ]
    },
    {
     "name": "stderr",
     "output_type": "stream",
     "text": [
      " 77%|███████▋  | 154/200 [14:47<04:26,  5.79s/it]"
     ]
    },
    {
     "name": "stdout",
     "output_type": "stream",
     "text": [
      "epoch  153 train acc 0.132 loss 0.010 val acc 0.020 loss 1.525\n"
     ]
    },
    {
     "name": "stderr",
     "output_type": "stream",
     "text": [
      " 78%|███████▊  | 155/200 [14:53<04:22,  5.83s/it]"
     ]
    },
    {
     "name": "stdout",
     "output_type": "stream",
     "text": [
      "epoch  154 train acc 0.167 loss 0.010 val acc 0.010 loss 1.526\n"
     ]
    },
    {
     "name": "stderr",
     "output_type": "stream",
     "text": [
      " 78%|███████▊  | 156/200 [14:58<04:14,  5.79s/it]"
     ]
    },
    {
     "name": "stdout",
     "output_type": "stream",
     "text": [
      "epoch  155 train acc 0.148 loss 0.007 val acc 0.020 loss 1.538\n"
     ]
    },
    {
     "name": "stderr",
     "output_type": "stream",
     "text": [
      " 78%|███████▊  | 157/200 [15:04<04:09,  5.80s/it]"
     ]
    },
    {
     "name": "stdout",
     "output_type": "stream",
     "text": [
      "epoch  156 train acc 0.148 loss 0.007 val acc 0.020 loss 1.583\n"
     ]
    },
    {
     "name": "stderr",
     "output_type": "stream",
     "text": [
      " 79%|███████▉  | 158/200 [15:10<04:04,  5.82s/it]"
     ]
    },
    {
     "name": "stdout",
     "output_type": "stream",
     "text": [
      "epoch  157 train acc 0.176 loss 0.008 val acc 0.010 loss 1.553\n"
     ]
    },
    {
     "name": "stderr",
     "output_type": "stream",
     "text": [
      " 80%|███████▉  | 159/200 [15:16<03:58,  5.81s/it]"
     ]
    },
    {
     "name": "stdout",
     "output_type": "stream",
     "text": [
      "epoch  158 train acc 0.154 loss 0.005 val acc 0.000 loss 1.575\n"
     ]
    },
    {
     "name": "stderr",
     "output_type": "stream",
     "text": [
      " 80%|████████  | 160/200 [15:22<03:52,  5.82s/it]"
     ]
    },
    {
     "name": "stdout",
     "output_type": "stream",
     "text": [
      "epoch  159 train acc 0.176 loss 0.004 val acc 0.020 loss 1.571\n"
     ]
    },
    {
     "name": "stderr",
     "output_type": "stream",
     "text": [
      " 80%|████████  | 161/200 [15:27<03:46,  5.82s/it]"
     ]
    },
    {
     "name": "stdout",
     "output_type": "stream",
     "text": [
      "epoch  160 train acc 0.174 loss 0.016 val acc 0.020 loss 1.537\n"
     ]
    },
    {
     "name": "stderr",
     "output_type": "stream",
     "text": [
      " 81%|████████  | 162/200 [15:33<03:39,  5.77s/it]"
     ]
    },
    {
     "name": "stdout",
     "output_type": "stream",
     "text": [
      "epoch  161 train acc 0.158 loss 0.014 val acc 0.030 loss 1.570\n"
     ]
    },
    {
     "name": "stderr",
     "output_type": "stream",
     "text": [
      " 82%|████████▏ | 163/200 [15:39<03:33,  5.77s/it]"
     ]
    },
    {
     "name": "stdout",
     "output_type": "stream",
     "text": [
      "epoch  162 train acc 0.170 loss 0.008 val acc 0.030 loss 1.571\n"
     ]
    },
    {
     "name": "stderr",
     "output_type": "stream",
     "text": [
      " 82%|████████▏ | 164/200 [15:45<03:29,  5.83s/it]"
     ]
    },
    {
     "name": "stdout",
     "output_type": "stream",
     "text": [
      "epoch  163 train acc 0.171 loss 0.007 val acc 0.020 loss 1.588\n"
     ]
    },
    {
     "name": "stderr",
     "output_type": "stream",
     "text": [
      " 82%|████████▎ | 165/200 [15:51<03:26,  5.89s/it]"
     ]
    },
    {
     "name": "stdout",
     "output_type": "stream",
     "text": [
      "epoch  164 train acc 0.186 loss 0.005 val acc 0.010 loss 1.580\n"
     ]
    },
    {
     "name": "stderr",
     "output_type": "stream",
     "text": [
      " 83%|████████▎ | 166/200 [15:57<03:17,  5.82s/it]"
     ]
    },
    {
     "name": "stdout",
     "output_type": "stream",
     "text": [
      "epoch  165 train acc 0.187 loss 0.007 val acc 0.010 loss 1.619\n"
     ]
    },
    {
     "name": "stderr",
     "output_type": "stream",
     "text": [
      " 84%|████████▎ | 167/200 [16:02<03:11,  5.80s/it]"
     ]
    },
    {
     "name": "stdout",
     "output_type": "stream",
     "text": [
      "epoch  166 train acc 0.157 loss 0.009 val acc 0.010 loss 1.576\n"
     ]
    },
    {
     "name": "stderr",
     "output_type": "stream",
     "text": [
      " 84%|████████▍ | 168/200 [16:08<03:04,  5.77s/it]"
     ]
    },
    {
     "name": "stdout",
     "output_type": "stream",
     "text": [
      "epoch  167 train acc 0.148 loss 0.010 val acc 0.010 loss 1.617\n"
     ]
    },
    {
     "name": "stderr",
     "output_type": "stream",
     "text": [
      " 84%|████████▍ | 169/200 [16:14<02:58,  5.77s/it]"
     ]
    },
    {
     "name": "stdout",
     "output_type": "stream",
     "text": [
      "epoch  168 train acc 0.184 loss 0.008 val acc 0.010 loss 1.583\n"
     ]
    },
    {
     "name": "stderr",
     "output_type": "stream",
     "text": [
      " 85%|████████▌ | 170/200 [16:20<02:53,  5.79s/it]"
     ]
    },
    {
     "name": "stdout",
     "output_type": "stream",
     "text": [
      "epoch  169 train acc 0.171 loss 0.007 val acc 0.000 loss 1.628\n"
     ]
    },
    {
     "name": "stderr",
     "output_type": "stream",
     "text": [
      " 86%|████████▌ | 171/200 [16:25<02:48,  5.80s/it]"
     ]
    },
    {
     "name": "stdout",
     "output_type": "stream",
     "text": [
      "epoch  170 train acc 0.152 loss 0.006 val acc 0.010 loss 1.621\n"
     ]
    },
    {
     "name": "stderr",
     "output_type": "stream",
     "text": [
      " 86%|████████▌ | 172/200 [16:31<02:42,  5.79s/it]"
     ]
    },
    {
     "name": "stdout",
     "output_type": "stream",
     "text": [
      "epoch  171 train acc 0.177 loss 0.006 val acc 0.010 loss 1.616\n"
     ]
    },
    {
     "name": "stderr",
     "output_type": "stream",
     "text": [
      " 86%|████████▋ | 173/200 [16:37<02:37,  5.84s/it]"
     ]
    },
    {
     "name": "stdout",
     "output_type": "stream",
     "text": [
      "epoch  172 train acc 0.142 loss 0.006 val acc 0.020 loss 1.620\n"
     ]
    },
    {
     "name": "stderr",
     "output_type": "stream",
     "text": [
      " 87%|████████▋ | 174/200 [16:43<02:32,  5.87s/it]"
     ]
    },
    {
     "name": "stdout",
     "output_type": "stream",
     "text": [
      "epoch  173 train acc 0.133 loss 0.007 val acc 0.010 loss 1.638\n"
     ]
    },
    {
     "name": "stderr",
     "output_type": "stream",
     "text": [
      " 88%|████████▊ | 175/200 [16:49<02:25,  5.83s/it]"
     ]
    },
    {
     "name": "stdout",
     "output_type": "stream",
     "text": [
      "epoch  174 train acc 0.156 loss 0.005 val acc 0.010 loss 1.646\n"
     ]
    },
    {
     "name": "stderr",
     "output_type": "stream",
     "text": [
      " 88%|████████▊ | 176/200 [16:55<02:20,  5.87s/it]"
     ]
    },
    {
     "name": "stdout",
     "output_type": "stream",
     "text": [
      "epoch  175 train acc 0.154 loss 0.007 val acc 0.000 loss 1.616\n"
     ]
    },
    {
     "name": "stderr",
     "output_type": "stream",
     "text": [
      " 88%|████████▊ | 177/200 [17:01<02:14,  5.87s/it]"
     ]
    },
    {
     "name": "stdout",
     "output_type": "stream",
     "text": [
      "epoch  176 train acc 0.143 loss 0.008 val acc 0.020 loss 1.658\n"
     ]
    },
    {
     "name": "stderr",
     "output_type": "stream",
     "text": [
      " 89%|████████▉ | 178/200 [17:07<02:09,  5.88s/it]"
     ]
    },
    {
     "name": "stdout",
     "output_type": "stream",
     "text": [
      "epoch  177 train acc 0.151 loss 0.007 val acc 0.010 loss 1.660\n"
     ]
    },
    {
     "name": "stderr",
     "output_type": "stream",
     "text": [
      " 90%|████████▉ | 179/200 [17:12<02:02,  5.84s/it]"
     ]
    },
    {
     "name": "stdout",
     "output_type": "stream",
     "text": [
      "epoch  178 train acc 0.159 loss 0.007 val acc 0.020 loss 1.654\n"
     ]
    },
    {
     "name": "stderr",
     "output_type": "stream",
     "text": [
      " 90%|█████████ | 180/200 [17:18<01:56,  5.80s/it]"
     ]
    },
    {
     "name": "stdout",
     "output_type": "stream",
     "text": [
      "epoch  179 train acc 0.156 loss 0.005 val acc 0.010 loss 1.671\n"
     ]
    },
    {
     "name": "stderr",
     "output_type": "stream",
     "text": [
      " 90%|█████████ | 181/200 [17:24<01:50,  5.79s/it]"
     ]
    },
    {
     "name": "stdout",
     "output_type": "stream",
     "text": [
      "epoch  180 train acc 0.158 loss 0.005 val acc 0.020 loss 1.679\n"
     ]
    },
    {
     "name": "stderr",
     "output_type": "stream",
     "text": [
      " 91%|█████████ | 182/200 [17:30<01:43,  5.78s/it]"
     ]
    },
    {
     "name": "stdout",
     "output_type": "stream",
     "text": [
      "epoch  181 train acc 0.146 loss 0.005 val acc 0.000 loss 1.668\n"
     ]
    },
    {
     "name": "stderr",
     "output_type": "stream",
     "text": [
      " 92%|█████████▏| 183/200 [17:35<01:38,  5.77s/it]"
     ]
    },
    {
     "name": "stdout",
     "output_type": "stream",
     "text": [
      "epoch  182 train acc 0.153 loss 0.007 val acc 0.000 loss 1.702\n"
     ]
    },
    {
     "name": "stderr",
     "output_type": "stream",
     "text": [
      " 92%|█████████▏| 184/200 [17:41<01:32,  5.76s/it]"
     ]
    },
    {
     "name": "stdout",
     "output_type": "stream",
     "text": [
      "epoch  183 train acc 0.154 loss 0.008 val acc 0.000 loss 1.674\n"
     ]
    },
    {
     "name": "stderr",
     "output_type": "stream",
     "text": [
      " 92%|█████████▎| 185/200 [17:47<01:25,  5.73s/it]"
     ]
    },
    {
     "name": "stdout",
     "output_type": "stream",
     "text": [
      "epoch  184 train acc 0.156 loss 0.006 val acc 0.000 loss 1.675\n"
     ]
    },
    {
     "name": "stderr",
     "output_type": "stream",
     "text": [
      " 93%|█████████▎| 186/200 [17:52<01:20,  5.74s/it]"
     ]
    },
    {
     "name": "stdout",
     "output_type": "stream",
     "text": [
      "epoch  185 train acc 0.170 loss 0.006 val acc 0.010 loss 1.648\n"
     ]
    },
    {
     "name": "stderr",
     "output_type": "stream",
     "text": [
      " 94%|█████████▎| 187/200 [17:58<01:15,  5.80s/it]"
     ]
    },
    {
     "name": "stdout",
     "output_type": "stream",
     "text": [
      "epoch  186 train acc 0.181 loss 0.004 val acc 0.000 loss 1.668\n"
     ]
    },
    {
     "name": "stderr",
     "output_type": "stream",
     "text": [
      " 94%|█████████▍| 188/200 [18:04<01:10,  5.85s/it]"
     ]
    },
    {
     "name": "stdout",
     "output_type": "stream",
     "text": [
      "epoch  187 train acc 0.173 loss 0.004 val acc 0.020 loss 1.685\n"
     ]
    },
    {
     "name": "stderr",
     "output_type": "stream",
     "text": [
      " 94%|█████████▍| 189/200 [18:10<01:04,  5.87s/it]"
     ]
    },
    {
     "name": "stdout",
     "output_type": "stream",
     "text": [
      "epoch  188 train acc 0.153 loss 0.007 val acc 0.000 loss 1.643\n"
     ]
    },
    {
     "name": "stderr",
     "output_type": "stream",
     "text": [
      " 95%|█████████▌| 190/200 [18:16<00:58,  5.80s/it]"
     ]
    },
    {
     "name": "stdout",
     "output_type": "stream",
     "text": [
      "epoch  189 train acc 0.164 loss 0.007 val acc 0.010 loss 1.686\n"
     ]
    },
    {
     "name": "stderr",
     "output_type": "stream",
     "text": [
      " 96%|█████████▌| 191/200 [18:22<00:51,  5.77s/it]"
     ]
    },
    {
     "name": "stdout",
     "output_type": "stream",
     "text": [
      "epoch  190 train acc 0.170 loss 0.007 val acc 0.010 loss 1.746\n"
     ]
    },
    {
     "name": "stderr",
     "output_type": "stream",
     "text": [
      " 96%|█████████▌| 192/200 [18:27<00:46,  5.76s/it]"
     ]
    },
    {
     "name": "stdout",
     "output_type": "stream",
     "text": [
      "epoch  191 train acc 0.167 loss 0.005 val acc 0.010 loss 1.725\n"
     ]
    },
    {
     "name": "stderr",
     "output_type": "stream",
     "text": [
      " 96%|█████████▋| 193/200 [18:33<00:40,  5.73s/it]"
     ]
    },
    {
     "name": "stdout",
     "output_type": "stream",
     "text": [
      "epoch  192 train acc 0.144 loss 0.006 val acc 0.000 loss 1.736\n"
     ]
    },
    {
     "name": "stderr",
     "output_type": "stream",
     "text": [
      " 97%|█████████▋| 194/200 [18:39<00:34,  5.70s/it]"
     ]
    },
    {
     "name": "stdout",
     "output_type": "stream",
     "text": [
      "epoch  193 train acc 0.144 loss 0.008 val acc 0.020 loss 1.704\n"
     ]
    },
    {
     "name": "stderr",
     "output_type": "stream",
     "text": [
      " 98%|█████████▊| 195/200 [18:44<00:28,  5.68s/it]"
     ]
    },
    {
     "name": "stdout",
     "output_type": "stream",
     "text": [
      "epoch  194 train acc 0.147 loss 0.007 val acc 0.030 loss 1.735\n"
     ]
    },
    {
     "name": "stderr",
     "output_type": "stream",
     "text": [
      " 98%|█████████▊| 196/200 [18:50<00:22,  5.65s/it]"
     ]
    },
    {
     "name": "stdout",
     "output_type": "stream",
     "text": [
      "epoch  195 train acc 0.142 loss 0.006 val acc 0.010 loss 1.731\n"
     ]
    },
    {
     "name": "stderr",
     "output_type": "stream",
     "text": [
      " 98%|█████████▊| 197/200 [18:55<00:16,  5.66s/it]"
     ]
    },
    {
     "name": "stdout",
     "output_type": "stream",
     "text": [
      "epoch  196 train acc 0.150 loss 0.005 val acc 0.010 loss 1.721\n"
     ]
    },
    {
     "name": "stderr",
     "output_type": "stream",
     "text": [
      " 99%|█████████▉| 198/200 [19:01<00:11,  5.63s/it]"
     ]
    },
    {
     "name": "stdout",
     "output_type": "stream",
     "text": [
      "epoch  197 train acc 0.157 loss 0.006 val acc 0.000 loss 1.739\n"
     ]
    },
    {
     "name": "stderr",
     "output_type": "stream",
     "text": [
      "100%|█████████▉| 199/200 [19:07<00:05,  5.61s/it]"
     ]
    },
    {
     "name": "stdout",
     "output_type": "stream",
     "text": [
      "epoch  198 train acc 0.153 loss 0.006 val acc 0.000 loss 1.767\n"
     ]
    },
    {
     "name": "stderr",
     "output_type": "stream",
     "text": [
      "100%|██████████| 200/200 [19:12<00:00,  5.76s/it]"
     ]
    },
    {
     "name": "stdout",
     "output_type": "stream",
     "text": [
      "epoch  199 train acc 0.141 loss 0.003 val acc 0.000 loss 1.748\n"
     ]
    },
    {
     "name": "stderr",
     "output_type": "stream",
     "text": [
      "\n"
     ]
    }
   ],
   "source": [
    "# 모델을 정의합니다.\n",
    "model = keras.Sequential([\n",
    "    keras.layers.LSTM(128, batch_input_shape=(1, 1, 45), return_sequences=False, stateful=True),\n",
    "    keras.layers.Dense(45, activation='sigmoid')\n",
    "])\n",
    "\n",
    "# 모델을 컴파일합니다.\n",
    "model.compile(loss='binary_crossentropy', optimizer='adam', metrics=['accuracy'])\n",
    "\n",
    "# 매 에포크마다 훈련과 검증의 손실 및 정확도를 기록하기 위한 변수\n",
    "train_loss = []\n",
    "train_acc = []\n",
    "val_loss = []\n",
    "val_acc = []\n",
    "\n",
    "# 최대 100번 에포크까지 수행\n",
    "for epoch in tqdm(range(200)):\n",
    "\n",
    "    model.reset_states() # 중요! 매 에포크마다 1회부터 다시 훈련하므로 상태 초기화 필요\n",
    "\n",
    "    batch_train_loss = []\n",
    "    batch_train_acc = []\n",
    "    \n",
    "    for i in range(train_idx[0], train_idx[1]):\n",
    "        \n",
    "        xs = x_samples[i].reshape(1, 1, 45)\n",
    "        ys = y_samples[i].reshape(1, 45)\n",
    "        \n",
    "        loss, acc = model.train_on_batch(xs, ys) #배치만큼 모델에 학습시킴\n",
    "\n",
    "        batch_train_loss.append(loss)\n",
    "        batch_train_acc.append(acc)\n",
    "\n",
    "    train_loss.append(np.mean(batch_train_loss))\n",
    "    train_acc.append(np.mean(batch_train_acc))\n",
    "\n",
    "    batch_val_loss = []\n",
    "    batch_val_acc = []\n",
    "\n",
    "    for i in range(val_idx[0], val_idx[1]):\n",
    "\n",
    "        xs = x_samples[i].reshape(1, 1, 45)\n",
    "        ys = y_samples[i].reshape(1, 45)\n",
    "        \n",
    "        loss, acc = model.test_on_batch(xs, ys) #배치만큼 모델에 입력하여 나온 답을 정답과 비교함\n",
    "        \n",
    "        batch_val_loss.append(loss)\n",
    "        batch_val_acc.append(acc)\n",
    "\n",
    "    val_loss.append(np.mean(batch_val_loss))\n",
    "    val_acc.append(np.mean(batch_val_acc))\n",
    "\n",
    "    print('epoch {0:4d} train acc {1:0.3f} loss {2:0.3f} val acc {3:0.3f} loss {4:0.3f}'.format(epoch, np.mean(batch_train_acc), np.mean(batch_train_loss), np.mean(batch_val_acc), np.mean(batch_val_loss)))"
   ]
  },
  {
   "cell_type": "code",
   "execution_count": 98,
   "metadata": {},
   "outputs": [],
   "source": [
    "model.save(\"models/lstm.h5\")"
   ]
  },
  {
   "cell_type": "code",
   "execution_count": 99,
   "metadata": {},
   "outputs": [
    {
     "name": "stdout",
     "output_type": "stream",
     "text": [
      "receive numbers\n",
      "0 : [9, 10, 12, 24, 27, 40]\n",
      "1 : [9, 10, 12, 27, 40, 44]\n",
      "2 : [9, 10, 12, 17, 27, 40]\n",
      "3 : [5, 9, 10, 12, 40, 44]\n",
      "4 : [5, 9, 12, 17, 27, 44]\n"
     ]
    }
   ],
   "source": [
    "# 번호 뽑기\n",
    "def gen_numbers_from_probability(nums_prob):\n",
    "\n",
    "    ball_box = []\n",
    "\n",
    "    for n in range(45):\n",
    "        ball_count = int(nums_prob[n] * 100 + 1)\n",
    "        ball = np.full((ball_count), n+1) #1부터 시작\n",
    "        ball_box += list(ball)\n",
    "\n",
    "    selected_balls = []\n",
    "\n",
    "    while True:\n",
    "        \n",
    "        if len(selected_balls) == 6:\n",
    "            break\n",
    "        \n",
    "        ball_index = np.random.randint(len(ball_box), size=1)[0]\n",
    "        ball = ball_box[ball_index]\n",
    "\n",
    "        if ball not in selected_balls:\n",
    "            selected_balls.append(ball)\n",
    "\n",
    "    return selected_balls\n",
    "    \n",
    "print('receive numbers')\n",
    "\n",
    "xs = x_samples[-1].reshape(1, 1, 45)\n",
    "\n",
    "ys_pred = model.predict_on_batch(xs)\n",
    "\n",
    "list_numbers = []\n",
    "\n",
    "for n in range(5):\n",
    "    numbers = gen_numbers_from_probability(ys_pred[0])\n",
    "    numbers.sort()\n",
    "    print('{0} : {1}'.format(n, numbers))\n",
    "    list_numbers.append(numbers)"
   ]
  },
  {
   "cell_type": "code",
   "execution_count": null,
   "metadata": {},
   "outputs": [],
   "source": []
  }
 ],
 "metadata": {
  "kernelspec": {
   "display_name": "rhee_lotto",
   "language": "python",
   "name": "python3"
  },
  "language_info": {
   "codemirror_mode": {
    "name": "ipython",
    "version": 3
   },
   "file_extension": ".py",
   "mimetype": "text/x-python",
   "name": "python",
   "nbconvert_exporter": "python",
   "pygments_lexer": "ipython3",
   "version": "3.10.11"
  },
  "orig_nbformat": 4
 },
 "nbformat": 4,
 "nbformat_minor": 2
}
