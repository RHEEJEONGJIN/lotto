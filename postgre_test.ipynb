{
 "cells": [
  {
   "cell_type": "code",
   "execution_count": 3,
   "metadata": {},
   "outputs": [],
   "source": [
    "from database_crud import CRUD\n",
    "import time\n",
    "from datetime import datetime, timezone\n",
    "\n",
    "db = CRUD()"
   ]
  },
  {
   "cell_type": "code",
   "execution_count": null,
   "metadata": {},
   "outputs": [],
   "source": []
  },
  {
   "cell_type": "code",
   "execution_count": 20,
   "metadata": {},
   "outputs": [
    {
     "name": "stdout",
     "output_type": "stream",
     "text": [
      "2023-05-14 10:01:08\n"
     ]
    }
   ],
   "source": [
    "now =datetime.now(timezone.utc).strftime('%Y-%m-%d %H:%M:%S')\n",
    "# timestamp = time.mktime(now.timetuple())\n",
    "print(now)\n",
    "db.insertDB(\n",
    "    schema='public',\n",
    "    table='LottoHistory',\n",
    "    colum='lotto_times, num1, num2, num3, num4, num5, num6, bonus, draw_time, create_time, winning_amount, winner_count',\n",
    "    # data=f'0, 0, 0, 0, 0, 0, 0, 0, ({now},), ({now},), 0, 0'\n",
    "    # data=f'0, 0, 0, 0, 0, 0, 0, 0, to_timestamp(\\'{now}\\'), to_timestamp(\\'{now}\\'), 0, 0'\n",
    "    data=f'0, 0, 0, 0, 0, 0, 0, 0, TIMESTAMP \\'{now}\\', TIMESTAMP \\'{now}\\', 0, 0'\n",
    ")"
   ]
  },
  {
   "cell_type": "code",
   "execution_count": 3,
   "metadata": {},
   "outputs": [
    {
     "name": "stdout",
     "output_type": "stream",
     "text": [
      "[(0, None, None, None, None, None, None, None, None, None, None, None)]\n"
     ]
    }
   ],
   "source": [
    "data = db.readDB(schema='public',table='LottoHistory',colum='lotto_times, num1, num2, num3, num4, num5, num6, bonus, draw_time, create_time, winning_amount, winner_count, sales_amount')\n",
    "dataframe_lotto = pd.DataFrame(data, columns=['lotto_times', 'num1', 'num2', 'num3', 'num4', 'num5', 'num6', 'bonus', 'draw_time', 'create_time', 'winning_amount', 'winner_count', 'sales_amount'])\n",
    "dataframe_lotto"
   ]
  },
  {
   "cell_type": "code",
   "execution_count": 7,
   "metadata": {},
   "outputs": [],
   "source": [
    "db.updateDB(\n",
    "    schema='public',\n",
    "    table='LottoHistory',\n",
    "    colum='lotto_times', \n",
    "    value=1,\n",
    "    condition=0\n",
    ")"
   ]
  },
  {
   "cell_type": "code",
   "execution_count": 21,
   "metadata": {},
   "outputs": [],
   "source": [
    "db.deleteDB(\n",
    "    schema='public',\n",
    "    table='LottoHistory',\n",
    "    condition =\"lotto_times = 0\"\n",
    ")"
   ]
  },
  {
   "cell_type": "code",
   "execution_count": null,
   "metadata": {},
   "outputs": [],
   "source": []
  }
 ],
 "metadata": {
  "kernelspec": {
   "display_name": "rhee_lotto",
   "language": "python",
   "name": "python3"
  },
  "language_info": {
   "codemirror_mode": {
    "name": "ipython",
    "version": 3
   },
   "file_extension": ".py",
   "mimetype": "text/x-python",
   "name": "python",
   "nbconvert_exporter": "python",
   "pygments_lexer": "ipython3",
   "version": "3.10.11"
  },
  "orig_nbformat": 4
 },
 "nbformat": 4,
 "nbformat_minor": 2
}
